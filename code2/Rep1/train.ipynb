{
 "cells": [
  {
   "cell_type": "code",
   "execution_count": 2,
   "metadata": {},
   "outputs": [],
   "source": [
    "import spacy\n",
    "from spacy.tokens import DocBin\n",
    "from spacy.training import Example\n",
    "from tqdm import tqdm\n",
    "import json"
   ]
  },
  {
   "cell_type": "code",
   "execution_count": 3,
   "metadata": {},
   "outputs": [
    {
     "name": "stderr",
     "output_type": "stream",
     "text": [
      "C:\\Users\\deepp\\AppData\\Roaming\\Python\\Python312\\site-packages\\transformers\\utils\\generic.py:441: UserWarning: torch.utils._pytree._register_pytree_node is deprecated. Please use torch.utils._pytree.register_pytree_node instead.\n",
      "  _torch_pytree._register_pytree_node(\n",
      "C:\\Users\\deepp\\AppData\\Roaming\\Python\\Python312\\site-packages\\transformers\\utils\\generic.py:309: UserWarning: torch.utils._pytree._register_pytree_node is deprecated. Please use torch.utils._pytree.register_pytree_node instead.\n",
      "  _torch_pytree._register_pytree_node(\n"
     ]
    }
   ],
   "source": [
    "nlp = spacy.load(\"en_core_web_sm\")"
   ]
  },
  {
   "cell_type": "code",
   "execution_count": 4,
   "metadata": {},
   "outputs": [],
   "source": [
    "# Add the NER pipeline if it's not present\n",
    "if \"ner\" not in nlp.pipe_names:\n",
    "    ner = nlp.create_pipe(\"ner\")\n",
    "    nlp.add_pipe(ner, last=True)\n",
    "else:\n",
    "    ner = nlp.get_pipe(\"ner\")\n",
    "\n",
    "# Add your custom labels to the NER component\n",
    "labels = [\"GPE\", \"DISASTER\"]\n",
    "for label in labels:\n",
    "    ner.add_label(label)\n",
    "\n",
    "# Function to load data from the .jsonl file\n",
    "def load_training_data(file_path):\n",
    "    with open(file_path, \"r\", encoding=\"utf-8\") as f:\n",
    "        lines = f.readlines()\n",
    "    training_data = []\n",
    "    for line in lines:\n",
    "        entry = json.loads(line)\n",
    "        text = entry[0]\n",
    "        entities = entry[1][\"entities\"]\n",
    "        training_data.append((text, {\"entities\": entities}))\n",
    "    return training_data\n",
    "\n",
    "# Convert training data into spaCy's Example objects\n",
    "def create_training_examples(nlp, train_data):\n",
    "    examples = []\n",
    "    for text, annotations in tqdm(train_data):\n",
    "        doc = nlp.make_doc(text)\n",
    "        example = Example.from_dict(doc, annotations)\n",
    "        examples.append(example)\n",
    "    return examples"
   ]
  },
  {
   "cell_type": "code",
   "execution_count": 5,
   "metadata": {},
   "outputs": [],
   "source": [
    "\n",
    "# Load your custom NER training data\n",
    "train_data = load_training_data(\"train/train_data_1.jsonl\")"
   ]
  },
  {
   "cell_type": "code",
   "execution_count": 6,
   "metadata": {},
   "outputs": [
    {
     "name": "stderr",
     "output_type": "stream",
     "text": [
      "100%|██████████| 80883/80883 [00:12<00:00, 6695.81it/s]\n"
     ]
    }
   ],
   "source": [
    "\n",
    "# Convert training data to spaCy's Example format\n",
    "train_examples = create_training_examples(nlp, train_data)"
   ]
  },
  {
   "cell_type": "code",
   "execution_count": 7,
   "metadata": {},
   "outputs": [
    {
     "name": "stdout",
     "output_type": "stream",
     "text": [
      "Iteration 1, Losses: {'ner': 181.4309047089791}\n",
      "Iteration 2, Losses: {'ner': 6.31446047260324}\n",
      "Iteration 3, Losses: {'ner': 5.299651846845533}\n",
      "Iteration 4, Losses: {'ner': 5.788887921566374e-09}\n",
      "Iteration 5, Losses: {'ner': 2.4691197220999227e-09}\n",
      "Iteration 6, Losses: {'ner': 4.2586802994046043e-10}\n",
      "Iteration 7, Losses: {'ner': 4.369511781936642e-10}\n",
      "Iteration 8, Losses: {'ner': 5.722904400086512e-09}\n",
      "Iteration 9, Losses: {'ner': 1.680717371773283e-12}\n",
      "Iteration 10, Losses: {'ner': 1.0152630637494759e-13}\n",
      "Iteration 11, Losses: {'ner': 2.8335370642971674e-12}\n",
      "Iteration 12, Losses: {'ner': 5.479805999979503e-15}\n",
      "Iteration 13, Losses: {'ner': 4.984318006467928e-12}\n",
      "Iteration 14, Losses: {'ner': 5.131933890476306e-15}\n",
      "Iteration 15, Losses: {'ner': 7.924070197338322e-16}\n",
      "Iteration 16, Losses: {'ner': 2.7936907585817966e-15}\n",
      "Iteration 17, Losses: {'ner': 7.839360066843809e-17}\n",
      "Iteration 18, Losses: {'ner': 1.2422622557424922e-09}\n",
      "Iteration 19, Losses: {'ner': 3.454404346949668e-14}\n",
      "Iteration 20, Losses: {'ner': 1.6409484623312655e-15}\n",
      "Model fine-tuning complete!\n"
     ]
    }
   ],
   "source": [
    "learning_rate = 0.0000001  # Change this to your desired value\n",
    "\n",
    "other_pipes = [pipe for pipe in nlp.pipe_names if pipe != \"ner\"]\n",
    "with nlp.disable_pipes(*other_pipes):\n",
    "    optimizer = nlp.resume_training()\n",
    "    nlp.config[\"training\"][\"optimizer\"][\"learn_rate\"] = learning_rate\n",
    "    # Initialize the optimizer with the NER component\n",
    "    # optimizer = nlp.create_optimizer()  # Just create the optimizer without any parameters\n",
    "    # nlp.config[\"training\"][\"optimizer\"][\"learn_rate\"] = learning_rate\n",
    "    # Define your custom learning rate and batch size\n",
    "\n",
    "    # Fine-tune the model on the new dataset\n",
    "    for iteration in range(20):  # Adjust the number of iterations as needed\n",
    "        losses = {}\n",
    "        # Create batches with the specified batch size\n",
    "        batches = spacy.util.minibatch(train_examples, size=spacy.util.compounding(4.0, 32.0, 1.3))\n",
    "        for batch in batches:\n",
    "            # Update the model with a custom learning rate\n",
    "            nlp.update(batch, sgd=optimizer, drop=0.3, losses=losses)\n",
    "        print(f\"Iteration {iteration + 1}, Losses: {losses}\")\n",
    "\n",
    "    # Save the updated model\n",
    "nlp.to_disk(\"0fner_model_custom_1_3\")\n",
    "\n",
    "print(\"Model fine-tuning complete!\")"
   ]
  },
  {
   "cell_type": "code",
   "execution_count": 3,
   "metadata": {},
   "outputs": [
    {
     "name": "stderr",
     "output_type": "stream",
     "text": [
      "C:\\Users\\deepp\\AppData\\Roaming\\Python\\Python312\\site-packages\\transformers\\utils\\generic.py:441: UserWarning: torch.utils._pytree._register_pytree_node is deprecated. Please use torch.utils._pytree.register_pytree_node instead.\n",
      "  _torch_pytree._register_pytree_node(\n",
      "C:\\Users\\deepp\\AppData\\Roaming\\Python\\Python312\\site-packages\\transformers\\utils\\generic.py:309: UserWarning: torch.utils._pytree._register_pytree_node is deprecated. Please use torch.utils._pytree.register_pytree_node instead.\n",
      "  _torch_pytree._register_pytree_node(\n"
     ]
    },
    {
     "name": "stdout",
     "output_type": "stream",
     "text": [
      "The aftershock pattern in purple suggests that the M. Noto GPE\n",
      "bilaterally, with the preliminary NEIC slip model in Japan also indicating slip on both sides of the epicenter in Ishikawa GPE\n"
     ]
    }
   ],
   "source": [
    "# Load the fine-tuned model\n",
    "nlp_custom = spacy.load(\"0fner_model_custom_1_3\")\n",
    "\n",
    "# Test the model with a sample tweet\n",
    "doc = nlp_custom(\"The aftershock pattern in purple suggests that the M. Noto earthquake ruptured bilaterally, with the preliminary NEIC slip model in Japan also indicating slip on both sides of the epicenter in Ishikawa\")\n",
    "for ent in doc.ents:\n",
    "    print(ent.text, ent.label_)\n"
   ]
  },
  {
   "cell_type": "code",
   "execution_count": null,
   "metadata": {},
   "outputs": [],
   "source": []
  }
 ],
 "metadata": {
  "kernelspec": {
   "display_name": "Python 3",
   "language": "python",
   "name": "python3"
  },
  "language_info": {
   "codemirror_mode": {
    "name": "ipython",
    "version": 3
   },
   "file_extension": ".py",
   "mimetype": "text/x-python",
   "name": "python",
   "nbconvert_exporter": "python",
   "pygments_lexer": "ipython3",
   "version": "3.12.2"
  }
 },
 "nbformat": 4,
 "nbformat_minor": 2
}
