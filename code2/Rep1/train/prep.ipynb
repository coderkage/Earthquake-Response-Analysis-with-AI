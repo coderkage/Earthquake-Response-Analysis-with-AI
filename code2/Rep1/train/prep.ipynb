{
 "cells": [
  {
   "cell_type": "code",
   "execution_count": 1,
   "metadata": {},
   "outputs": [],
   "source": [
    "import json\n",
    "\n",
    "# Function to check for overlap between two entities\n",
    "def has_overlap(ent1, ent2):\n",
    "    return ent1[1] > ent2[0] and ent2[1] > ent1[0]\n",
    "\n",
    "# Function to filter overlapping entities, keeping the shortest\n",
    "def filter_overlapping_entities(entities):\n",
    "    # Sort entities by start position, then by length (shorter ones first)\n",
    "    entities = sorted(entities, key=lambda x: (x[0], x[1] - x[0]))\n",
    "    filtered_entities = []\n",
    "    \n",
    "    for ent in entities:\n",
    "        # Add entity only if it doesn't overlap with the last added one\n",
    "        if not filtered_entities or not has_overlap(filtered_entities[-1], ent):\n",
    "            filtered_entities.append(ent)\n",
    "    \n",
    "    return filtered_entities\n",
    "\n",
    "# Load the annotated data from file\n",
    "with open(\"data3.jsonl\", \"r\") as file:\n",
    "    annotated_data = [json.loads(line) for line in file]\n",
    "\n",
    "# Process each entry to filter entities\n",
    "filtered_data = []\n",
    "for entry in annotated_data:\n",
    "    text, entity_info = entry[0], entry[1]\n",
    "    \n",
    "    # Filter overlapping entities and keep only non-empty entity lists\n",
    "    filtered_entities = filter_overlapping_entities(entity_info[\"entities\"])\n",
    "    \n",
    "    if filtered_entities:\n",
    "        filtered_data.append([text, {\"entities\": filtered_entities}])\n",
    "\n",
    "# Save filtered data back to JSONL\n",
    "with open(\"data3.jsonl\", \"w\") as file:\n",
    "    for entry in filtered_data:\n",
    "        json.dump(entry, file)\n",
    "        file.write(\"\\n\")\n"
   ]
  },
  {
   "cell_type": "code",
   "execution_count": null,
   "metadata": {},
   "outputs": [],
   "source": []
  }
 ],
 "metadata": {
  "kernelspec": {
   "display_name": "Python 3",
   "language": "python",
   "name": "python3"
  },
  "language_info": {
   "codemirror_mode": {
    "name": "ipython",
    "version": 3
   },
   "file_extension": ".py",
   "mimetype": "text/x-python",
   "name": "python",
   "nbconvert_exporter": "python",
   "pygments_lexer": "ipython3",
   "version": "3.12.2"
  }
 },
 "nbformat": 4,
 "nbformat_minor": 2
}
