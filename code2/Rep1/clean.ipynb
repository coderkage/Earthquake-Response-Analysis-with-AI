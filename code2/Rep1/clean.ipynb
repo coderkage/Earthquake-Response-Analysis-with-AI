{
 "cells": [
  {
   "cell_type": "code",
   "execution_count": 1,
   "metadata": {},
   "outputs": [
    {
     "name": "stdout",
     "output_type": "stream",
     "text": [
      "Cleaned data saved to tezzzt.jsonl\n"
     ]
    }
   ],
   "source": [
    "import json\n",
    "\n",
    "def clean_overlapping_entities(data):\n",
    "    cleaned_data = []\n",
    "    \n",
    "    for item in data:\n",
    "        text, annotations = item\n",
    "        entities = annotations['entities']\n",
    "        \n",
    "        # Sort entities by their start position, and then by end position (to detect overlaps)\n",
    "        entities = sorted(entities, key=lambda x: (x[0], x[1]))\n",
    "        \n",
    "        # Initialize a list to hold cleaned entities\n",
    "        cleaned_entities = []\n",
    "        prev_end = -1\n",
    "        \n",
    "        for entity in entities:\n",
    "            start, end, label = entity\n",
    "            \n",
    "            # If the current entity does not overlap with the previous one, add it to cleaned_entities\n",
    "            if start >= prev_end:\n",
    "                cleaned_entities.append(entity)\n",
    "                prev_end = end\n",
    "        \n",
    "        # Add the cleaned example to cleaned_data\n",
    "        cleaned_data.append([text, {\"entities\": cleaned_entities}])\n",
    "    \n",
    "    return cleaned_data\n",
    "\n",
    "# Function to load JSONL data from file\n",
    "def load_jsonl(file_path):\n",
    "    data = []\n",
    "    with open(file_path, 'r') as f:\n",
    "        for line in f:\n",
    "            data.append(json.loads(line))\n",
    "    return data\n",
    "\n",
    "# Function to save cleaned JSONL data back to file\n",
    "def save_jsonl(data, output_file):\n",
    "    with open(output_file, 'w') as f:\n",
    "        for item in data:\n",
    "            f.write(json.dumps(item) + '\\n')\n",
    "\n",
    "# Example usage with file paths\n",
    "input_file = 'train/train_data_2.jsonl'  # Replace with your input file path\n",
    "output_file = 'tezzzt.jsonl'  # Output file path\n",
    "\n",
    "# Load, clean, and save the data\n",
    "test_data = load_jsonl(input_file)\n",
    "cleaned_test_data = clean_overlapping_entities(test_data)\n",
    "save_jsonl(cleaned_test_data, output_file)\n",
    "\n",
    "print(f\"Cleaned data saved to {output_file}\")\n"
   ]
  },
  {
   "cell_type": "code",
   "execution_count": null,
   "metadata": {},
   "outputs": [],
   "source": []
  }
 ],
 "metadata": {
  "kernelspec": {
   "display_name": "Python 3",
   "language": "python",
   "name": "python3"
  },
  "language_info": {
   "codemirror_mode": {
    "name": "ipython",
    "version": 3
   },
   "file_extension": ".py",
   "mimetype": "text/x-python",
   "name": "python",
   "nbconvert_exporter": "python",
   "pygments_lexer": "ipython3",
   "version": "3.12.2"
  }
 },
 "nbformat": 4,
 "nbformat_minor": 2
}
