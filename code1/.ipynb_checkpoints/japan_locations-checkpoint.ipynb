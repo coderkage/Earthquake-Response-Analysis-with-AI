{
 "cells": [
  {
   "cell_type": "code",
   "execution_count": 1,
   "id": "cf273dcc-4069-48ea-9f7a-99199edb5a46",
   "metadata": {},
   "outputs": [],
   "source": [
    "import pandas as pd\n",
    "import spacy\n",
    "from tqdm import tqdm\n",
    "from spacy.matcher import PhraseMatcher"
   ]
  },
  {
   "cell_type": "code",
   "execution_count": 2,
   "id": "46b35056-e5d4-4285-9e9a-43535e405811",
   "metadata": {},
   "outputs": [],
   "source": [
    "csv_file = 'preprocessed_0f_japan.csv' "
   ]
  },
  {
   "cell_type": "code",
   "execution_count": 3,
   "id": "3907d8ee-14b2-4e5e-a38c-d3c7ff8af924",
   "metadata": {},
   "outputs": [],
   "source": [
    "df = pd.read_csv(csv_file)"
   ]
  },
  {
   "cell_type": "code",
   "execution_count": 4,
   "id": "87d5db6d-ea13-49d0-9b1a-db22fe014ee4",
   "metadata": {},
   "outputs": [
    {
     "data": {
      "text/html": [
       "<div>\n",
       "<style scoped>\n",
       "    .dataframe tbody tr th:only-of-type {\n",
       "        vertical-align: middle;\n",
       "    }\n",
       "\n",
       "    .dataframe tbody tr th {\n",
       "        vertical-align: top;\n",
       "    }\n",
       "\n",
       "    .dataframe thead th {\n",
       "        text-align: right;\n",
       "    }\n",
       "</style>\n",
       "<table border=\"1\" class=\"dataframe\">\n",
       "  <thead>\n",
       "    <tr style=\"text-align: right;\">\n",
       "      <th></th>\n",
       "      <th>text</th>\n",
       "      <th>date</th>\n",
       "      <th>processed_text</th>\n",
       "    </tr>\n",
       "  </thead>\n",
       "  <tbody>\n",
       "    <tr>\n",
       "      <th>0</th>\n",
       "      <td>\\Japan earthquake: Nearly 250 missing as hope ...</td>\n",
       "      <td>Jan-07</td>\n",
       "      <td>japan earthquake nearly missing as hope for s...</td>\n",
       "    </tr>\n",
       "    <tr>\n",
       "      <th>1</th>\n",
       "      <td>Replying to  @aviationbrk</td>\n",
       "      <td>Jan-07</td>\n",
       "      <td>replying to</td>\n",
       "    </tr>\n",
       "    <tr>\n",
       "      <th>2</th>\n",
       "      <td>ارتفاع حصيلة ضحايا زلزال اليابان إلى 326 قتيلا...</td>\n",
       "      <td>Jan-06</td>\n",
       "      <td>ارتفاع حصيلة ضحايا زلزال اليابان إلى قتيلا ومف...</td>\n",
       "    </tr>\n",
       "    <tr>\n",
       "      <th>3</th>\n",
       "      <td>Replying to  @rawsalerts</td>\n",
       "      <td>Jan-06</td>\n",
       "      <td>replying to</td>\n",
       "    </tr>\n",
       "    <tr>\n",
       "      <th>4</th>\n",
       "      <td>Informative and Helpful article by the founder...</td>\n",
       "      <td>Jan-06</td>\n",
       "      <td>informative and helpful article by the founder...</td>\n",
       "    </tr>\n",
       "    <tr>\n",
       "      <th>...</th>\n",
       "      <td>...</td>\n",
       "      <td>...</td>\n",
       "      <td>...</td>\n",
       "    </tr>\n",
       "    <tr>\n",
       "      <th>488</th>\n",
       "      <td>M7.4 earthquake / 7 on Japanese shindo scale /...</td>\n",
       "      <td>Jan-01</td>\n",
       "      <td>earthquake on japanese shindo scale ishikawa ...</td>\n",
       "    </tr>\n",
       "    <tr>\n",
       "      <th>489</th>\n",
       "      <td>Region: Near West Coast of Honshu, Japan Mag: ...</td>\n",
       "      <td>Jan-01</td>\n",
       "      <td>region near west coast of honshu japan mag utc...</td>\n",
       "    </tr>\n",
       "    <tr>\n",
       "      <th>490</th>\n",
       "      <td>Preliminary: 6.7 earthquake, Near West Coast o...</td>\n",
       "      <td>Jan-01</td>\n",
       "      <td>preliminary earthquake near west coast of hons...</td>\n",
       "    </tr>\n",
       "    <tr>\n",
       "      <th>491</th>\n",
       "      <td>Very strong mag. 6.7 #earthquake - Near West C...</td>\n",
       "      <td>Jan-01</td>\n",
       "      <td>very strong mag earthquake near west coast of ...</td>\n",
       "    </tr>\n",
       "    <tr>\n",
       "      <th>492</th>\n",
       "      <td>ird2024aaogsn Near West Coast of Honshu, Japan...</td>\n",
       "      <td>Jan-01</td>\n",
       "      <td>ird aaogsn near west coast of honshu japan mw ...</td>\n",
       "    </tr>\n",
       "  </tbody>\n",
       "</table>\n",
       "<p>493 rows × 3 columns</p>\n",
       "</div>"
      ],
      "text/plain": [
       "                                                  text    date  \\\n",
       "0    \\Japan earthquake: Nearly 250 missing as hope ...  Jan-07   \n",
       "1                            Replying to  @aviationbrk  Jan-07   \n",
       "2    ارتفاع حصيلة ضحايا زلزال اليابان إلى 326 قتيلا...  Jan-06   \n",
       "3                             Replying to  @rawsalerts  Jan-06   \n",
       "4    Informative and Helpful article by the founder...  Jan-06   \n",
       "..                                                 ...     ...   \n",
       "488  M7.4 earthquake / 7 on Japanese shindo scale /...  Jan-01   \n",
       "489  Region: Near West Coast of Honshu, Japan Mag: ...  Jan-01   \n",
       "490  Preliminary: 6.7 earthquake, Near West Coast o...  Jan-01   \n",
       "491  Very strong mag. 6.7 #earthquake - Near West C...  Jan-01   \n",
       "492  ird2024aaogsn Near West Coast of Honshu, Japan...  Jan-01   \n",
       "\n",
       "                                        processed_text  \n",
       "0     japan earthquake nearly missing as hope for s...  \n",
       "1                                         replying to   \n",
       "2    ارتفاع حصيلة ضحايا زلزال اليابان إلى قتيلا ومف...  \n",
       "3                                         replying to   \n",
       "4    informative and helpful article by the founder...  \n",
       "..                                                 ...  \n",
       "488   earthquake on japanese shindo scale ishikawa ...  \n",
       "489  region near west coast of honshu japan mag utc...  \n",
       "490  preliminary earthquake near west coast of hons...  \n",
       "491  very strong mag earthquake near west coast of ...  \n",
       "492  ird aaogsn near west coast of honshu japan mw ...  \n",
       "\n",
       "[493 rows x 3 columns]"
      ]
     },
     "execution_count": 4,
     "metadata": {},
     "output_type": "execute_result"
    }
   ],
   "source": [
    "df"
   ]
  },
  {
   "cell_type": "code",
   "execution_count": 5,
   "id": "af037b8d-2eb9-414d-9e1c-98de71c038c8",
   "metadata": {},
   "outputs": [],
   "source": [
    "def extract_locations(text):\n",
    "    nlp = spacy.load(\"en_core_web_sm\")\n",
    "    matcher = PhraseMatcher(nlp.vocab)\n",
    "    # Add custom location names to the matcher\n",
    "    location_patterns = []\n",
    "    for loc in location_patterns:\n",
    "        matcher.add(\"LOCATION\", None, nlp(loc))\n",
    "\n",
    "    doc = nlp(text)\n",
    "    locations = []\n",
    "    \n",
    "    # Extract locations using NER\n",
    "    for ent in doc.ents:\n",
    "        if ent.label_ == 'GPE' or ent.label_ == 'LOC':\n",
    "            locations.append(ent.text)\n",
    "\n",
    "    # Extract additional locations using the custom matcher\n",
    "    matches = matcher(doc)\n",
    "    for match_id, start, end in matches:\n",
    "        span = doc[start:end]\n",
    "        locations.append(span.text)\n",
    "    \n",
    "    return locations"
   ]
  },
  {
   "cell_type": "code",
   "execution_count": 8,
   "id": "ec237cb6-9247-4f58-b3b5-c9b1798aecd7",
   "metadata": {
    "scrolled": true
   },
   "outputs": [
    {
     "name": "stderr",
     "output_type": "stream",
     "text": [
      "Extracting Locations:   0%|                                                                    | 0/493 [00:00<?, ?it/s]C:\\Users\\deepp\\AppData\\Roaming\\Python\\Python312\\site-packages\\transformers\\utils\\generic.py:441: UserWarning: torch.utils._pytree._register_pytree_node is deprecated. Please use torch.utils._pytree.register_pytree_node instead.\n",
      "  _torch_pytree._register_pytree_node(\n",
      "C:\\Users\\deepp\\AppData\\Roaming\\Python\\Python312\\site-packages\\transformers\\utils\\generic.py:309: UserWarning: torch.utils._pytree._register_pytree_node is deprecated. Please use torch.utils._pytree.register_pytree_node instead.\n",
      "  _torch_pytree._register_pytree_node(\n",
      "Extracting Locations: 100%|██████████████████████████████████████████████████████████| 493/493 [03:51<00:00,  2.13it/s]"
     ]
    },
    {
     "name": "stdout",
     "output_type": "stream",
     "text": [
      "['japan', 'أعلنت', 'japan', 'japan', 'japan', 'japan', 'japan', 'saudi arabia', 'japan korea', 'korea', 'manhattan', 'israel', 'miami', 'japan', 'japan', 'japan', 'china', 'indonesia', 'iran', 'japan', 'japan', 'japan', 'japan', 'japan', 'el terremoto', 'north korea', 'south korea', 'japan', 'korea', 'japan', 'north korea', 'china', 'china', 'china', 'japan', 'china', 'japan', 'japan', 'china', 'indonesia', 'iran', 'japan', 'japan', 'osaka', 'bangkok', 'korea', 'japan', 'iran', 'japan', 'japan', 'japan', 'japan', 'japan', 'japan', 'japan', 'japan', 'japan', 'japan', 'japan', 'ukraine', 'gaza', 'the red sea', 'japan', 'south korea', 'iran', 'japan', 'japan', 'japan', 'أناميزو', 'japan', 'japan', 'japan', 'japan', 'china', 'indonesia', 'iran', 'japan', 'united states turkiye', 'japan', 'japan', 'japan', 'kitakyushu city', 'japan', 'japantsunami', 'japan', 'japan', 'kitakyushu shopping district', 'japan', 'japan', 'northeast', 'japan', 'japan', 'japan', 'จดหมายปร', 'japan', 'japan', 'northeast', 'japan', 'japan', 'japan', 'japan', 'japan', 'syria', 'japan', 'west japan', 'the west coast', 'japan', 'japan', 'japan', 'japan', 'japan', 'earth', 'japan', 'the united states', 'japan', 'japan', 'japan', 'japan', 'japan', 'the west coast', 'japan', 'japan', 'us', 'iran', 'japan', 'japan', 'japan', 'japan', 'the west coast', 'japan', 'japan', 'japan', 'japan', 'japan', 'japan', 'japan', 'japan', 'japan', 'japan', 'japan', 'japan', 'japan', 'japan', 'tokyo', 'japan', 'japan', 'japan', 'tokyo', 'tokyo', 'japan', 'japan', 'japan', 'จดหมายปร', 'japan', 'japan', 'tokyo', 'tokyo', 'japan', 'japan', 'japan', 'japan', 'japan', 'israel', 'japan', 'japan', 'japan', 'caribbean', 'japan', 'japan', 'japan', 'japan', 'tokyo', 'britain', 'japan', 'japan', 'japan', 'japan', 'japan', 'florida', 'japan', 'japan', 'japan', 'japan', 'japan', 'east asia', 'japan', 'tokyo', 'tokyo', 'japan', 'japan', 'japan', 'ethiopia', 'kenya', 'أرزقهم', 'japan', 'japan', 'japan', 'japan', 'japan', 'japan', 'japan', 'japan', 'japan', 'japan', 'japan', 'tokyo', 'japan', 'japan', 'จดหมายปร', 'japan', 'japan', 'japan', 'japan', 'japan', 'japan', 'japan', 'japan', 'japan', 'japan', 'japan', 'japan', 'japan', 'japan', 'japan', 'japan', 'china', 'taiwan', 'pakistan', 'จดหมายปร', 'japan', 'los angeles', 'japan', 'tsunami korea', 'iran', 'japan', 'japan', 'japan', 'japan', 'japan', 'south korea', 'japan', 'japan', 'japan', 'japan', 'asia', 'japan', 'japan', 'japan', 'japan', 'japan', 'japan', 'japan', 'japan', 'そして被災地域の皆さんの無事を祈ります', 'japan', 'japan', 'japan', 'japan', 'taiwan', 'japan', 'japan', 'japan', 'japan', 'japan', 'rápida', 'nación', 'japan', 'japan', 'المسلحة اليمنية', 'japan', 'japan', 'japan', 'japan', 'japan', 'japan', 'japan', 'japan', 'japan', 'japan', 'japan', 'japan', 'japan', 'japan', 'japan', 'japan', 'japan', 'japan', 'japan', 'japan', 'japan', 'japan', 'japan', 'west coast', 'japan', 'japan', 'japan', 'japan', 'japan', 'يلعن', 'japan', 'la', 'japan', 'san francisco', 'japan', 'الحكومات', 'japan', 'japan', 'japan', 'japan', 'japan', 'japan', 'japan', 'japan', 'japan', 'الأولى', 'مجلس_العموم_الجنوبي', 'japan', 'japan', 'japan', 'japan', 'japan', 'japan', 'japan', 'japan', 'japan', 'japan', 'واحد', 'واحد', 'واحد', 'لبنان', 'japan', 'japan', 'اليمن_سند_فلسطين', 'japan', 'japan', 'los angeles', 'japan', 'california', 'japan', 'japan', 'japan', 'california', 'japan', 'japan', 'japan', 'california', 'japan', 'japan', 'japan', 'japan', 'japan', 'california', 'japan', 'japan', 'japan', 'japan', 'japan', 'japan', 'japan', 'japan', 'california', 'japan', 'japan', 'japan', 'japan', 'japan', 'japan', 'japan', 'japan', 'california', 'japan', 'จดหมายปร', 'japan', 'the red sea', 'japan', 'واحد', 'واحد', 'japan', 'japan', 'japan', 'japan', 'japan', 'japan', 'japan', 'japan', 'japan', 'japan', 'japan', 'japan', 'japan', 'japan', 'japan', 'japan', 'japan', 'la region de ishikawa', 'japan', 'japan', 'japan', 'japan', 'japan', 'japan', 'japan', 'west coast', 'japan', 'japan', 'iran', 'japan', 'japan', 'japan', 'japan', 'japan', 'japan', 'japan', 'japan', 'japan', 'japan', 'russia', 'india', 'china', 'southafrica', 'japan', 'japan', 'japan', 'japan', 'japan', 'japan', 'japan', 'japan', 'japan', 'gaza', 'israel', 'ukraine', 'japan', 'japan', 'japan', 'japan', 'japan', 'israel', 'gaza', 'japan', 'iraq', 'japan', 'त_रह', 'japan', 'japan', 'japan', 'japan', 'japan', 'japan', 'japan', 'japan', 'japan', 'japan', 'japan', 'japan', 'japan', 'japan', 'istanbul', 'gaza', 'japan', 'japan', 'japan', 'japan', 'japan', 'japan', 'japan', 'japan', 'japan', 'مجلس_العموم_الجنوبي', 'japan', 'japan', 'japan', 'japan', 'japan', 'japan', 'japan', 'japan', 'japan', 'scotland', 'japan', 'japan', 'japan', 'wajima city', 'japan', 'japan', 'pakistan', 'japan', 'japan', 'japan', 'japan', 'japan', 'japan', 'japan', 'wajima japanearthquake', 'japan', 'wajima city', 'japan', 'japan', 'japan', 'japan', 'japan', 'japan', 'japan', 'japan', 'japan', 'japan', 'japan', 'japan', 'tokyo', 'japan', 'tokyo', 'japan', 'japan', 'japan', 'japan', 'japan', 'japan', 'japan', 'japan', 'tokyo', 'mexico', 'japan', 'japan', 'japan', 'japan', 'japan', 'japan', 'japan', 'japan', 'japan', 'japan', 'japan', 'japan', 'japan', 'japan', 'kakioka', 'moon earth', 'japan', 'west coast', 'japan', 'japan', 'japan', 'japan', 'japan', 'japan', 'japan', 'japan', 'japan', 'russia', 'japan', 'japan', 'ce', 'japan', 'japan', 'japan', 'japan', 'japan', 'japan', 'japan', 'delhi', 'japan', 'japan', 'japan', 'japan', 'japan', 'japan', 'japan', 'japan', 'japan', 'japan', 'japan', 'japan', 'japan', 'japan', 'japan', 'japan', 'japan', 'japan', 'اپنی', 'japan', 'japan', 'japan', 'japan', 'japan', 'russia', 'japan', 'japan', 'japan', 'japan', 'japan', 'japan', 'japan', 'japan', 'mahadev', 'japan', 'japan', 'north east depth', 'west coast', 'japan', 'japan', 'japan', 'japan', 'japan', 'japan', 'japan', 'japan', 'japan', 'japan', 'the west coast', 'japan', 'japan', 'japan', 'russia', 'japan', 'japan', 'japan', 'japan', 'japan', 'japan', 'los angeles', 'japan', 'japan', 'japan', 'west coast', 'japan', 'japan', 'japan', 'japan', 'japan', 'japan', 'japan', 'japan', 'japan', 'japan', 'japan', 'japan', 'japan', 'japan', 'japan', 'japan', 'japan', 'japan', 'japan', 'japan', 'japan', 'japan', 'japan', 'japan', 'japan', 'japan', 'japan', 'japan', 'japan', 'japan', 'japan', 'japan', 'japan', 'japan', 'japan', 'japan', 'japan', 'japan', 'japan', 'japan', 'japan', 'japan', 'japan', 'japan', 'west coast', 'japan', 'india', 'japan', 'japan', 'japan', 'japan', 'japan', 'japan', 'japan', 'japan', 'japan', 'japan', 'japan', 'japan', 'japan', 'japan', 'japan', 'japan', 'la', 'japan', 'japan', 'japan', 'japan', 'japan', 'japan', 'japan', 'japan', 'japan', 'japan', 'japan', 'japan', 'japan', 'japan', 'japan', 'japan', 'japan', 'japan', 'japan', 'japan', 'japan', 'japan', 'japan', 'japan', 'japan', 'japan', 'japan', 'japan', 'japan', 'japan', 'japan', 'japan', 'japan', 'west coast', 'japan', 'japan', 'japan', 'japan', 'japan', 'japan', 'japan', 'the west coast', 'japan', 'gibi', 'yakın', 'japan', 'japan', 'the west coast', 'japan', 'japan', 'japan', 'japan', 'japan', 'tokyo', 'japan', 'japan', 'japan', 'japan', 'west coast', 'japan', 'japan', 'japan', 'the west coast', 'japan', 'us', 'west coast', 'japan', 'japan', 'west coast', 'japan', 'west coast', 'japan', 'west coast', 'japan', 'west coast']\n"
     ]
    },
    {
     "name": "stderr",
     "output_type": "stream",
     "text": [
      "\n"
     ]
    }
   ],
   "source": [
    "all_locations = []\n",
    "for text in tqdm(df['processed_text'], desc=\"Extracting Locations\", total=len(df)):\n",
    "    locations = extract_locations(text)\n",
    "    all_locations.extend(locations)\n",
    "\n",
    "# Print or use the list of all locations\n",
    "print(all_locations)"
   ]
  },
  {
   "cell_type": "code",
   "execution_count": 11,
   "id": "aad96207-78df-46e7-8458-5a24097d2c0e",
   "metadata": {},
   "outputs": [],
   "source": [
    "locations_df = pd.DataFrame(all_locations, columns=['Location'])"
   ]
  },
  {
   "cell_type": "code",
   "execution_count": 13,
   "id": "ede1b47b-2dbb-4dd2-982a-57b55edc0450",
   "metadata": {},
   "outputs": [
    {
     "data": {
      "text/html": [
       "<div>\n",
       "<style scoped>\n",
       "    .dataframe tbody tr th:only-of-type {\n",
       "        vertical-align: middle;\n",
       "    }\n",
       "\n",
       "    .dataframe tbody tr th {\n",
       "        vertical-align: top;\n",
       "    }\n",
       "\n",
       "    .dataframe thead th {\n",
       "        text-align: right;\n",
       "    }\n",
       "</style>\n",
       "<table border=\"1\" class=\"dataframe\">\n",
       "  <thead>\n",
       "    <tr style=\"text-align: right;\">\n",
       "      <th></th>\n",
       "      <th>Location</th>\n",
       "    </tr>\n",
       "  </thead>\n",
       "  <tbody>\n",
       "    <tr>\n",
       "      <th>0</th>\n",
       "      <td>japan</td>\n",
       "    </tr>\n",
       "    <tr>\n",
       "      <th>1</th>\n",
       "      <td>أعلنت</td>\n",
       "    </tr>\n",
       "    <tr>\n",
       "      <th>2</th>\n",
       "      <td>japan</td>\n",
       "    </tr>\n",
       "    <tr>\n",
       "      <th>3</th>\n",
       "      <td>japan</td>\n",
       "    </tr>\n",
       "    <tr>\n",
       "      <th>4</th>\n",
       "      <td>japan</td>\n",
       "    </tr>\n",
       "    <tr>\n",
       "      <th>...</th>\n",
       "      <td>...</td>\n",
       "    </tr>\n",
       "    <tr>\n",
       "      <th>758</th>\n",
       "      <td>west coast</td>\n",
       "    </tr>\n",
       "    <tr>\n",
       "      <th>759</th>\n",
       "      <td>japan</td>\n",
       "    </tr>\n",
       "    <tr>\n",
       "      <th>760</th>\n",
       "      <td>west coast</td>\n",
       "    </tr>\n",
       "    <tr>\n",
       "      <th>761</th>\n",
       "      <td>japan</td>\n",
       "    </tr>\n",
       "    <tr>\n",
       "      <th>762</th>\n",
       "      <td>west coast</td>\n",
       "    </tr>\n",
       "  </tbody>\n",
       "</table>\n",
       "<p>763 rows × 1 columns</p>\n",
       "</div>"
      ],
      "text/plain": [
       "       Location\n",
       "0         japan\n",
       "1         أعلنت\n",
       "2         japan\n",
       "3         japan\n",
       "4         japan\n",
       "..          ...\n",
       "758  west coast\n",
       "759       japan\n",
       "760  west coast\n",
       "761       japan\n",
       "762  west coast\n",
       "\n",
       "[763 rows x 1 columns]"
      ]
     },
     "execution_count": 13,
     "metadata": {},
     "output_type": "execute_result"
    }
   ],
   "source": [
    "locations_df"
   ]
  },
  {
   "cell_type": "code",
   "execution_count": 14,
   "id": "3a3629af-a47e-4b4b-b05d-95c3baa7118c",
   "metadata": {},
   "outputs": [],
   "source": [
    "locations_df.to_csv('extracted_locations_japan.csv', index=False)"
   ]
  },
  {
   "cell_type": "code",
   "execution_count": 15,
   "id": "caecd387-6da8-4348-ae48-42fadfc98b96",
   "metadata": {},
   "outputs": [],
   "source": [
    "from geopy.geocoders import Nominatim"
   ]
  },
  {
   "cell_type": "code",
   "execution_count": 16,
   "id": "abbc6909-8e20-4371-930d-f6c5d4b0f4bb",
   "metadata": {},
   "outputs": [],
   "source": [
    "def get_coordinates(location):\n",
    "    geolocator = Nominatim(user_agent=\"location_finder\")\n",
    "    try:\n",
    "        location_info = geolocator.geocode(location)\n",
    "        if location_info:\n",
    "            return location_info.latitude, location_info.longitude\n",
    "        else:\n",
    "            return None, None\n",
    "    except:\n",
    "        return None, None"
   ]
  },
  {
   "cell_type": "code",
   "execution_count": 17,
   "id": "5c6bce0f-5016-4461-9e72-f97002c00aa1",
   "metadata": {},
   "outputs": [
    {
     "data": {
      "text/plain": [
       "(16.083333, 77.166667)"
      ]
     },
     "execution_count": 17,
     "metadata": {},
     "output_type": "execute_result"
    }
   ],
   "source": [
    "get_coordinates('raichur')"
   ]
  },
  {
   "cell_type": "code",
   "execution_count": 18,
   "id": "8298cdae-033d-4a50-92cf-b5581fe9b106",
   "metadata": {},
   "outputs": [],
   "source": [
    "locations_data = []"
   ]
  },
  {
   "cell_type": "code",
   "execution_count": 19,
   "id": "8a810f61-643d-4779-8910-9dcfc9103d13",
   "metadata": {},
   "outputs": [
    {
     "name": "stderr",
     "output_type": "stream",
     "text": [
      "Geocoding Locations: 100%|█████████████████████████████████████████████████████████████| 80/80 [01:43<00:00,  1.29s/it]\n"
     ]
    }
   ],
   "source": [
    "unique_locations = set(all_locations)\n",
    "for location in tqdm(unique_locations, desc=\"Geocoding Locations\"):\n",
    "    frequency = all_locations.count(location)\n",
    "    latitude, longitude = get_coordinates(location)\n",
    "    if latitude is not None and longitude is not None:\n",
    "        locations_data.append({'Location': location, 'Frequency': frequency, 'Latitude': latitude, 'Longitude': longitude})\n"
   ]
  },
  {
   "cell_type": "code",
   "execution_count": 20,
   "id": "e83f10ad-072c-49f4-91ce-ce061e69d1cd",
   "metadata": {},
   "outputs": [],
   "source": [
    "locations_coordinate = pd.DataFrame(locations_data)"
   ]
  },
  {
   "cell_type": "code",
   "execution_count": 21,
   "id": "6d694ef9-880d-42d3-8d09-a2d7c52271bd",
   "metadata": {},
   "outputs": [
    {
     "data": {
      "text/html": [
       "<div>\n",
       "<style scoped>\n",
       "    .dataframe tbody tr th:only-of-type {\n",
       "        vertical-align: middle;\n",
       "    }\n",
       "\n",
       "    .dataframe tbody tr th {\n",
       "        vertical-align: top;\n",
       "    }\n",
       "\n",
       "    .dataframe thead th {\n",
       "        text-align: right;\n",
       "    }\n",
       "</style>\n",
       "<table border=\"1\" class=\"dataframe\">\n",
       "  <thead>\n",
       "    <tr style=\"text-align: right;\">\n",
       "      <th></th>\n",
       "      <th>Location</th>\n",
       "      <th>Frequency</th>\n",
       "      <th>Latitude</th>\n",
       "      <th>Longitude</th>\n",
       "    </tr>\n",
       "  </thead>\n",
       "  <tbody>\n",
       "    <tr>\n",
       "      <th>0</th>\n",
       "      <td>rápida</td>\n",
       "      <td>1</td>\n",
       "      <td>-3.467559</td>\n",
       "      <td>-80.233213</td>\n",
       "    </tr>\n",
       "    <tr>\n",
       "      <th>1</th>\n",
       "      <td>mahadev</td>\n",
       "      <td>1</td>\n",
       "      <td>24.622499</td>\n",
       "      <td>82.173876</td>\n",
       "    </tr>\n",
       "    <tr>\n",
       "      <th>2</th>\n",
       "      <td>delhi</td>\n",
       "      <td>1</td>\n",
       "      <td>28.627393</td>\n",
       "      <td>77.171695</td>\n",
       "    </tr>\n",
       "    <tr>\n",
       "      <th>3</th>\n",
       "      <td>the united states</td>\n",
       "      <td>1</td>\n",
       "      <td>47.828163</td>\n",
       "      <td>-122.598365</td>\n",
       "    </tr>\n",
       "    <tr>\n",
       "      <th>4</th>\n",
       "      <td>united states turkiye</td>\n",
       "      <td>1</td>\n",
       "      <td>40.759698</td>\n",
       "      <td>-73.920210</td>\n",
       "    </tr>\n",
       "    <tr>\n",
       "      <th>...</th>\n",
       "      <td>...</td>\n",
       "      <td>...</td>\n",
       "      <td>...</td>\n",
       "      <td>...</td>\n",
       "    </tr>\n",
       "    <tr>\n",
       "      <th>62</th>\n",
       "      <td>china</td>\n",
       "      <td>9</td>\n",
       "      <td>35.000074</td>\n",
       "      <td>104.999927</td>\n",
       "    </tr>\n",
       "    <tr>\n",
       "      <th>63</th>\n",
       "      <td>الأولى</td>\n",
       "      <td>1</td>\n",
       "      <td>31.180487</td>\n",
       "      <td>31.200973</td>\n",
       "    </tr>\n",
       "    <tr>\n",
       "      <th>64</th>\n",
       "      <td>اپنی</td>\n",
       "      <td>1</td>\n",
       "      <td>43.084762</td>\n",
       "      <td>40.817049</td>\n",
       "    </tr>\n",
       "    <tr>\n",
       "      <th>65</th>\n",
       "      <td>southafrica</td>\n",
       "      <td>1</td>\n",
       "      <td>-26.169444</td>\n",
       "      <td>28.194085</td>\n",
       "    </tr>\n",
       "    <tr>\n",
       "      <th>66</th>\n",
       "      <td>syria</td>\n",
       "      <td>1</td>\n",
       "      <td>34.815354</td>\n",
       "      <td>38.423074</td>\n",
       "    </tr>\n",
       "  </tbody>\n",
       "</table>\n",
       "<p>67 rows × 4 columns</p>\n",
       "</div>"
      ],
      "text/plain": [
       "                 Location  Frequency   Latitude   Longitude\n",
       "0                  rápida          1  -3.467559  -80.233213\n",
       "1                 mahadev          1  24.622499   82.173876\n",
       "2                   delhi          1  28.627393   77.171695\n",
       "3       the united states          1  47.828163 -122.598365\n",
       "4   united states turkiye          1  40.759698  -73.920210\n",
       "..                    ...        ...        ...         ...\n",
       "62                  china          9  35.000074  104.999927\n",
       "63                 الأولى          1  31.180487   31.200973\n",
       "64                   اپنی          1  43.084762   40.817049\n",
       "65            southafrica          1 -26.169444   28.194085\n",
       "66                  syria          1  34.815354   38.423074\n",
       "\n",
       "[67 rows x 4 columns]"
      ]
     },
     "execution_count": 21,
     "metadata": {},
     "output_type": "execute_result"
    }
   ],
   "source": [
    "locations_coordinate"
   ]
  },
  {
   "cell_type": "code",
   "execution_count": 22,
   "id": "abcd641e-36cb-4c9b-9d4f-164fed72a55a",
   "metadata": {},
   "outputs": [],
   "source": [
    "locations_coordinate.to_csv('coordinate_japan.csv', index=False)"
   ]
  },
  {
   "cell_type": "code",
   "execution_count": null,
   "id": "b95e56f1-1783-4ec0-a54c-1c5d412a20b0",
   "metadata": {},
   "outputs": [],
   "source": []
  }
 ],
 "metadata": {
  "kernelspec": {
   "display_name": "Python 3 (ipykernel)",
   "language": "python",
   "name": "python3"
  },
  "language_info": {
   "codemirror_mode": {
    "name": "ipython",
    "version": 3
   },
   "file_extension": ".py",
   "mimetype": "text/x-python",
   "name": "python",
   "nbconvert_exporter": "python",
   "pygments_lexer": "ipython3",
   "version": "3.12.2"
  }
 },
 "nbformat": 4,
 "nbformat_minor": 5
}
