{
 "cells": [
  {
   "cell_type": "code",
   "execution_count": 1,
   "id": "ba1f48c3-bdae-4c27-b513-50c85bff9a2b",
   "metadata": {},
   "outputs": [],
   "source": [
    "import pandas as pd"
   ]
  },
  {
   "cell_type": "code",
   "execution_count": 2,
   "id": "9e89a3c2-efe3-4539-a690-b8081c2745d7",
   "metadata": {},
   "outputs": [],
   "source": [
    "df = pd.read_csv(\"query.csv\")"
   ]
  },
  {
   "cell_type": "code",
   "execution_count": 3,
   "id": "4d847768-48eb-4774-a321-a42a93f9d481",
   "metadata": {},
   "outputs": [],
   "source": [
    "import plotly.express as px"
   ]
  },
  {
   "cell_type": "code",
   "execution_count": 4,
   "id": "625731ab-2afd-4081-b5ce-3ae773a016ba",
   "metadata": {},
   "outputs": [],
   "source": [
    "import numpy as np"
   ]
  },
  {
   "cell_type": "code",
   "execution_count": 5,
   "id": "42330e1a-0d3a-4a43-b6e4-30ff857900b8",
   "metadata": {},
   "outputs": [],
   "source": [
    "import geopandas as gpd\n",
    "import matplotlib.pyplot as plt\n",
    "import pandas as pd\n",
    "import folium\n",
    "from branca.colormap import linear"
   ]
  },
  {
   "cell_type": "code",
   "execution_count": 6,
   "id": "ec8f3762",
   "metadata": {},
   "outputs": [],
   "source": [
    "from branca.colormap import LinearColormap"
   ]
  },
  {
   "cell_type": "code",
   "execution_count": 7,
   "id": "311ba81d-3598-49d7-810d-b3067d77bb11",
   "metadata": {},
   "outputs": [],
   "source": [
    "m = folium.Map(location=[20, 0], zoom_start=2, tiles='CartoDB positron')\n",
    "\n",
    "# Create a colormap\n",
    "colormap = LinearColormap(\n",
    "    colors=['yellow', 'red', 'black'],  # Define your color gradient\n",
    "    vmin=df['mag'].min(),\n",
    "    vmax=df['mag'].max(),\n",
    "    caption='Magnitude'\n",
    ")\n",
    "\n",
    "# Add markers to the map\n",
    "for idx, row in df.iterrows():\n",
    "    folium.CircleMarker(\n",
    "        location=(row['latitude'], row['longitude']),\n",
    "        radius=np.exp((row['mag'])/3), \n",
    "        color=None,                 \n",
    "        fill=True,\n",
    "        fill_color=colormap(row['mag']),  # Apply colormap based on magnitude\n",
    "        fill_opacity=0.85,\n",
    "        popup=f'Magnitude: {row[\"mag\"]}'\n",
    "    ).add_to(m)\n",
    "\n",
    "# Add the colormap to the map\n",
    "colormap.add_to(m)\n",
    "\n",
    "# Save to an HTML file and display\n",
    "m.save('query_ep.html')"
   ]
  },
  {
   "cell_type": "code",
   "execution_count": null,
   "id": "d0d94a06",
   "metadata": {},
   "outputs": [],
   "source": []
  }
 ],
 "metadata": {
  "kernelspec": {
   "display_name": "Python 3",
   "language": "python",
   "name": "python3"
  },
  "language_info": {
   "codemirror_mode": {
    "name": "ipython",
    "version": 3
   },
   "file_extension": ".py",
   "mimetype": "text/x-python",
   "name": "python",
   "nbconvert_exporter": "python",
   "pygments_lexer": "ipython3",
   "version": "3.12.2"
  }
 },
 "nbformat": 4,
 "nbformat_minor": 5
}
