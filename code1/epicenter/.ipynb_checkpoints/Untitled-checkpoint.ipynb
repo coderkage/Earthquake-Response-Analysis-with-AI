{
 "cells": [
  {
   "cell_type": "code",
   "execution_count": 25,
   "id": "ba1f48c3-bdae-4c27-b513-50c85bff9a2b",
   "metadata": {},
   "outputs": [],
   "source": [
    "import pandas as pd"
   ]
  },
  {
   "cell_type": "code",
   "execution_count": 60,
   "id": "9e89a3c2-efe3-4539-a690-b8081c2745d7",
   "metadata": {},
   "outputs": [],
   "source": [
    "df = pd.read_csv(\"iraq_ep.csv\")"
   ]
  },
  {
   "cell_type": "code",
   "execution_count": 55,
   "id": "4d847768-48eb-4774-a321-a42a93f9d481",
   "metadata": {},
   "outputs": [],
   "source": [
    "import plotly.express as px"
   ]
  },
  {
   "cell_type": "code",
   "execution_count": 56,
   "id": "625731ab-2afd-4081-b5ce-3ae773a016ba",
   "metadata": {},
   "outputs": [],
   "source": [
    "import numpy as np"
   ]
  },
  {
   "cell_type": "code",
   "execution_count": 57,
   "id": "42330e1a-0d3a-4a43-b6e4-30ff857900b8",
   "metadata": {},
   "outputs": [],
   "source": [
    "import geopandas as gpd\n",
    "import matplotlib.pyplot as plt\n",
    "import pandas as pd\n",
    "import folium\n",
    "from branca.colormap import linear"
   ]
  },
  {
   "cell_type": "code",
   "execution_count": 61,
   "id": "311ba81d-3598-49d7-810d-b3067d77bb11",
   "metadata": {},
   "outputs": [],
   "source": [
    "m = folium.Map(location=[20, 0], zoom_start=2, tiles='CartoDB positron')\n",
    "\n",
    "# Create a colormap\n",
    "colormap = cm.LinearColormap(\n",
    "    colors=['yellow', 'red', 'brown'],  # Define your color gradient\n",
    "    vmin=df['mag'].min(),\n",
    "    vmax=df['mag'].max(),\n",
    "    caption='Magnitude'\n",
    ")\n",
    "\n",
    "# Add markers to the map\n",
    "for idx, row in df.iterrows():\n",
    "    folium.CircleMarker(\n",
    "        location=(row['latitude'], row['longitude']),\n",
    "        radius=(row['mag'])*1.5, \n",
    "        color=None,                 \n",
    "        fill=True,\n",
    "        fill_color=colormap(row['mag']),  # Apply colormap based on magnitude\n",
    "        fill_opacity=0.75,\n",
    "        popup=f'Magnitude: {row[\"mag\"]}'\n",
    "    ).add_to(m)\n",
    "\n",
    "# Add the colormap to the map\n",
    "colormap.add_to(m)\n",
    "\n",
    "# Save to an HTML file and display\n",
    "m.save('iraq_ep.html')"
   ]
  },
  {
   "cell_type": "code",
   "execution_count": null,
   "id": "f62739bf-6cf2-4422-ba3f-2605fb272916",
   "metadata": {},
   "outputs": [],
   "source": []
  }
 ],
 "metadata": {
  "kernelspec": {
   "display_name": "Python 3 (ipykernel)",
   "language": "python",
   "name": "python3"
  },
  "language_info": {
   "codemirror_mode": {
    "name": "ipython",
    "version": 3
   },
   "file_extension": ".py",
   "mimetype": "text/x-python",
   "name": "python",
   "nbconvert_exporter": "python",
   "pygments_lexer": "ipython3",
   "version": "3.12.2"
  }
 },
 "nbformat": 4,
 "nbformat_minor": 5
}
