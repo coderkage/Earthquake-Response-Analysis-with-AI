{
 "cells": [
  {
   "cell_type": "code",
   "execution_count": 1,
   "id": "cf273dcc-4069-48ea-9f7a-99199edb5a46",
   "metadata": {},
   "outputs": [],
   "source": [
    "import pandas as pd\n",
    "import spacy\n",
    "from tqdm import tqdm\n",
    "from spacy.matcher import PhraseMatcher"
   ]
  },
  {
   "cell_type": "code",
   "execution_count": 2,
   "id": "46b35056-e5d4-4285-9e9a-43535e405811",
   "metadata": {},
   "outputs": [],
   "source": [
    "csv_file = 'preprocessed_0f_japan.csv' "
   ]
  },
  {
   "cell_type": "code",
   "execution_count": 3,
   "id": "3907d8ee-14b2-4e5e-a38c-d3c7ff8af924",
   "metadata": {},
   "outputs": [],
   "source": [
    "df = pd.read_csv(csv_file)"
   ]
  },
  {
   "cell_type": "code",
   "execution_count": 4,
   "id": "87d5db6d-ea13-49d0-9b1a-db22fe014ee4",
   "metadata": {},
   "outputs": [
    {
     "data": {
      "text/html": [
       "<div>\n",
       "<style scoped>\n",
       "    .dataframe tbody tr th:only-of-type {\n",
       "        vertical-align: middle;\n",
       "    }\n",
       "\n",
       "    .dataframe tbody tr th {\n",
       "        vertical-align: top;\n",
       "    }\n",
       "\n",
       "    .dataframe thead th {\n",
       "        text-align: right;\n",
       "    }\n",
       "</style>\n",
       "<table border=\"1\" class=\"dataframe\">\n",
       "  <thead>\n",
       "    <tr style=\"text-align: right;\">\n",
       "      <th></th>\n",
       "      <th>text</th>\n",
       "      <th>date</th>\n",
       "      <th>processed_text</th>\n",
       "    </tr>\n",
       "  </thead>\n",
       "  <tbody>\n",
       "    <tr>\n",
       "      <th>0</th>\n",
       "      <td>\\Japan earthquake: Nearly 250 missing as hope ...</td>\n",
       "      <td>Jan-07</td>\n",
       "      <td>japan earthquake nearly missing as hope for s...</td>\n",
       "    </tr>\n",
       "    <tr>\n",
       "      <th>1</th>\n",
       "      <td>Replying to  @aviationbrk</td>\n",
       "      <td>Jan-07</td>\n",
       "      <td>replying to</td>\n",
       "    </tr>\n",
       "    <tr>\n",
       "      <th>2</th>\n",
       "      <td>ارتفاع حصيلة ضحايا زلزال اليابان إلى 326 قتيلا...</td>\n",
       "      <td>Jan-06</td>\n",
       "      <td>ارتفاع حصيلة ضحايا زلزال اليابان إلى قتيلا ومف...</td>\n",
       "    </tr>\n",
       "    <tr>\n",
       "      <th>3</th>\n",
       "      <td>Replying to  @rawsalerts</td>\n",
       "      <td>Jan-06</td>\n",
       "      <td>replying to</td>\n",
       "    </tr>\n",
       "    <tr>\n",
       "      <th>4</th>\n",
       "      <td>Informative and Helpful article by the founder...</td>\n",
       "      <td>Jan-06</td>\n",
       "      <td>informative and helpful article by the founder...</td>\n",
       "    </tr>\n",
       "    <tr>\n",
       "      <th>...</th>\n",
       "      <td>...</td>\n",
       "      <td>...</td>\n",
       "      <td>...</td>\n",
       "    </tr>\n",
       "    <tr>\n",
       "      <th>488</th>\n",
       "      <td>M7.4 earthquake / 7 on Japanese shindo scale /...</td>\n",
       "      <td>Jan-01</td>\n",
       "      <td>earthquake on japanese shindo scale ishikawa ...</td>\n",
       "    </tr>\n",
       "    <tr>\n",
       "      <th>489</th>\n",
       "      <td>Region: Near West Coast of Honshu, Japan Mag: ...</td>\n",
       "      <td>Jan-01</td>\n",
       "      <td>region near west coast of honshu japan mag utc...</td>\n",
       "    </tr>\n",
       "    <tr>\n",
       "      <th>490</th>\n",
       "      <td>Preliminary: 6.7 earthquake, Near West Coast o...</td>\n",
       "      <td>Jan-01</td>\n",
       "      <td>preliminary earthquake near west coast of hons...</td>\n",
       "    </tr>\n",
       "    <tr>\n",
       "      <th>491</th>\n",
       "      <td>Very strong mag. 6.7 #earthquake - Near West C...</td>\n",
       "      <td>Jan-01</td>\n",
       "      <td>very strong mag earthquake near west coast of ...</td>\n",
       "    </tr>\n",
       "    <tr>\n",
       "      <th>492</th>\n",
       "      <td>ird2024aaogsn Near West Coast of Honshu, Japan...</td>\n",
       "      <td>Jan-01</td>\n",
       "      <td>ird aaogsn near west coast of honshu japan mw ...</td>\n",
       "    </tr>\n",
       "  </tbody>\n",
       "</table>\n",
       "<p>493 rows × 3 columns</p>\n",
       "</div>"
      ],
      "text/plain": [
       "                                                  text    date  \\\n",
       "0    \\Japan earthquake: Nearly 250 missing as hope ...  Jan-07   \n",
       "1                            Replying to  @aviationbrk  Jan-07   \n",
       "2    ارتفاع حصيلة ضحايا زلزال اليابان إلى 326 قتيلا...  Jan-06   \n",
       "3                             Replying to  @rawsalerts  Jan-06   \n",
       "4    Informative and Helpful article by the founder...  Jan-06   \n",
       "..                                                 ...     ...   \n",
       "488  M7.4 earthquake / 7 on Japanese shindo scale /...  Jan-01   \n",
       "489  Region: Near West Coast of Honshu, Japan Mag: ...  Jan-01   \n",
       "490  Preliminary: 6.7 earthquake, Near West Coast o...  Jan-01   \n",
       "491  Very strong mag. 6.7 #earthquake - Near West C...  Jan-01   \n",
       "492  ird2024aaogsn Near West Coast of Honshu, Japan...  Jan-01   \n",
       "\n",
       "                                        processed_text  \n",
       "0     japan earthquake nearly missing as hope for s...  \n",
       "1                                         replying to   \n",
       "2    ارتفاع حصيلة ضحايا زلزال اليابان إلى قتيلا ومف...  \n",
       "3                                         replying to   \n",
       "4    informative and helpful article by the founder...  \n",
       "..                                                 ...  \n",
       "488   earthquake on japanese shindo scale ishikawa ...  \n",
       "489  region near west coast of honshu japan mag utc...  \n",
       "490  preliminary earthquake near west coast of hons...  \n",
       "491  very strong mag earthquake near west coast of ...  \n",
       "492  ird aaogsn near west coast of honshu japan mw ...  \n",
       "\n",
       "[493 rows x 3 columns]"
      ]
     },
     "execution_count": 4,
     "metadata": {},
     "output_type": "execute_result"
    }
   ],
   "source": [
    "df"
   ]
  },
  {
   "cell_type": "code",
   "execution_count": 5,
   "id": "af037b8d-2eb9-414d-9e1c-98de71c038c8",
   "metadata": {},
   "outputs": [],
   "source": [
    "def extract_locations(text):\n",
    "    nlp = spacy.load(\"0fner_model_custom_3\")\n",
    "    matcher = PhraseMatcher(nlp.vocab)\n",
    "    # Add custom location names to the matcher\n",
    "    location_patterns = []\n",
    "    for loc in location_patterns:\n",
    "        matcher.add(\"LOCATION\", None, nlp(loc))\n",
    "\n",
    "    doc = nlp(text)\n",
    "    locations = []\n",
    "    \n",
    "    # Extract locations using NER\n",
    "    for ent in doc.ents:\n",
    "        if ent.label_ == 'GPE' or ent.label_ == 'LOC':\n",
    "            locations.append(ent.text)\n",
    "\n",
    "    # Extract additional locations using the custom matcher\n",
    "    matches = matcher(doc)\n",
    "    for match_id, start, end in matches:\n",
    "        span = doc[start:end]\n",
    "        locations.append(span.text)\n",
    "    \n",
    "    return locations"
   ]
  },
  {
   "cell_type": "code",
   "execution_count": 6,
   "id": "ec237cb6-9247-4f58-b3b5-c9b1798aecd7",
   "metadata": {
    "scrolled": true
   },
   "outputs": [
    {
     "name": "stderr",
     "output_type": "stream",
     "text": [
      "Extracting Locations:   0%|          | 0/493 [00:00<?, ?it/s]"
     ]
    },
    {
     "name": "stderr",
     "output_type": "stream",
     "text": [
      "C:\\Users\\deepp\\AppData\\Roaming\\Python\\Python312\\site-packages\\transformers\\utils\\generic.py:441: UserWarning: torch.utils._pytree._register_pytree_node is deprecated. Please use torch.utils._pytree.register_pytree_node instead.\n",
      "  _torch_pytree._register_pytree_node(\n",
      "C:\\Users\\deepp\\AppData\\Roaming\\Python\\Python312\\site-packages\\transformers\\utils\\generic.py:309: UserWarning: torch.utils._pytree._register_pytree_node is deprecated. Please use torch.utils._pytree.register_pytree_node instead.\n",
      "  _torch_pytree._register_pytree_node(\n",
      "Extracting Locations: 100%|██████████| 493/493 [04:15<00:00,  1.93it/s]"
     ]
    },
    {
     "name": "stdout",
     "output_type": "stream",
     "text": [
      "['japan', 'japan', 'japan', 'japan', 'japan', 'japan', 'japan', 'japan', 'gaza', 'japan', 'japan jan', 'japan', 'japan', 'japan', 'japan noto peninsula', 'japan', 'japan', 'japan hanaka airport harvard', 'japanearthquake', 'japan', 'japan tokyo', 'japan', 'japan tokyo', 'japan south korean opposition leader stabbed russian missile strikes', 'tokyo', 'japan', 'tokyo', 'tokyo', 'مساء_الخير_والسعاده زد_رصيدك الاسعار_الجديدة', 'البحر_الأحمر العام_الجديد', 'japan', 'tokyo', 'japan', 'japan', 'japan', 'japan', 'japan', 'japan', 'asia', 'japan japanearthquake', 'japan', 'japan', 'اليمن_ينتصر_لفلسطين', 'jesusiscomingsoon jesusislord jesussaves', 'japan', 'japan', 'japan', 'japan', 'japan', 'japan', 'kanazawa', 'kanazawa', 'japan', 'japan', 'japan', 'japan', 'japan japan', 'japan', 'japan', 'japan japan', 'japan', 'japan', 'kanazawa', 'gaza', 'japan suffering', 'japan', 'japan', 'kanazawa', 'japan', 'japan', 'japan', 'japan', 'japan japan japon earthquake japan', 'japan', 'japan', 'japan', 'japan earthquake 津波 東日本大震災 緊急地震速報 津波到達 大津波警報 津波 ซ น', 'japan', 'japan 𝗕𝗿𝗲𝗮𝗸𝗶𝗻𝗴 𝗡𝗲𝘄𝘀', 'japan', 'japan', 'japan', 'japan ishikawa', 'japan ishikawa', 'japan japan', 'japan', 'japan', 'japan', 'japan earthquake in', 'japan', 'japan japan', 'japan', 'japan japan', 'komatsu', 'komatsu', 'japan', 'japan', 'japan', 'japanearthquake', 'japan', 'japan', 'japan', 'japan', 'japan', 'japan']\n"
     ]
    },
    {
     "name": "stderr",
     "output_type": "stream",
     "text": [
      "\n"
     ]
    }
   ],
   "source": [
    "all_locations1 = []\n",
    "flags=[]\n",
    "for text in tqdm(df['processed_text'], desc=\"Extracting Locations\", total=len(df)):\n",
    "    locations = extract_locations(text)\n",
    "    all_locations1.extend(locations)\n",
    "    \n",
    "    # Set the flag to 1 if locations were found, otherwise 0\n",
    "    if locations:\n",
    "        flags.append(1)\n",
    "    else:\n",
    "        flags.append(0)\n",
    "\n",
    "# Add the flag column to the DataFrame\n",
    "df['flag1'] = flags\n",
    "# Print or use the list of all locations\n",
    "print(all_locations1)"
   ]
  },
  {
   "cell_type": "code",
   "execution_count": 7,
   "id": "7bbe0ec7",
   "metadata": {},
   "outputs": [],
   "source": [
    "count_ones = df['flag1'].sum()"
   ]
  },
  {
   "cell_type": "code",
   "execution_count": 8,
   "id": "1e4bc0bf",
   "metadata": {},
   "outputs": [
    {
     "data": {
      "text/plain": [
       "95"
      ]
     },
     "execution_count": 8,
     "metadata": {},
     "output_type": "execute_result"
    }
   ],
   "source": [
    "count_ones"
   ]
  },
  {
   "cell_type": "code",
   "execution_count": 9,
   "id": "aad96207-78df-46e7-8458-5a24097d2c0e",
   "metadata": {},
   "outputs": [],
   "source": [
    "locations_df = pd.DataFrame(all_locations1, columns=['Location'])"
   ]
  },
  {
   "cell_type": "code",
   "execution_count": 10,
   "id": "ede1b47b-2dbb-4dd2-982a-57b55edc0450",
   "metadata": {},
   "outputs": [
    {
     "data": {
      "text/html": [
       "<div>\n",
       "<style scoped>\n",
       "    .dataframe tbody tr th:only-of-type {\n",
       "        vertical-align: middle;\n",
       "    }\n",
       "\n",
       "    .dataframe tbody tr th {\n",
       "        vertical-align: top;\n",
       "    }\n",
       "\n",
       "    .dataframe thead th {\n",
       "        text-align: right;\n",
       "    }\n",
       "</style>\n",
       "<table border=\"1\" class=\"dataframe\">\n",
       "  <thead>\n",
       "    <tr style=\"text-align: right;\">\n",
       "      <th></th>\n",
       "      <th>Location</th>\n",
       "    </tr>\n",
       "  </thead>\n",
       "  <tbody>\n",
       "    <tr>\n",
       "      <th>0</th>\n",
       "      <td>japan</td>\n",
       "    </tr>\n",
       "    <tr>\n",
       "      <th>1</th>\n",
       "      <td>japan</td>\n",
       "    </tr>\n",
       "    <tr>\n",
       "      <th>2</th>\n",
       "      <td>japan</td>\n",
       "    </tr>\n",
       "    <tr>\n",
       "      <th>3</th>\n",
       "      <td>japan</td>\n",
       "    </tr>\n",
       "    <tr>\n",
       "      <th>4</th>\n",
       "      <td>japan</td>\n",
       "    </tr>\n",
       "    <tr>\n",
       "      <th>...</th>\n",
       "      <td>...</td>\n",
       "    </tr>\n",
       "    <tr>\n",
       "      <th>100</th>\n",
       "      <td>japan</td>\n",
       "    </tr>\n",
       "    <tr>\n",
       "      <th>101</th>\n",
       "      <td>japan</td>\n",
       "    </tr>\n",
       "    <tr>\n",
       "      <th>102</th>\n",
       "      <td>japan</td>\n",
       "    </tr>\n",
       "    <tr>\n",
       "      <th>103</th>\n",
       "      <td>japan</td>\n",
       "    </tr>\n",
       "    <tr>\n",
       "      <th>104</th>\n",
       "      <td>japan</td>\n",
       "    </tr>\n",
       "  </tbody>\n",
       "</table>\n",
       "<p>105 rows × 1 columns</p>\n",
       "</div>"
      ],
      "text/plain": [
       "    Location\n",
       "0      japan\n",
       "1      japan\n",
       "2      japan\n",
       "3      japan\n",
       "4      japan\n",
       "..       ...\n",
       "100    japan\n",
       "101    japan\n",
       "102    japan\n",
       "103    japan\n",
       "104    japan\n",
       "\n",
       "[105 rows x 1 columns]"
      ]
     },
     "execution_count": 10,
     "metadata": {},
     "output_type": "execute_result"
    }
   ],
   "source": [
    "locations_df"
   ]
  },
  {
   "cell_type": "code",
   "execution_count": 11,
   "id": "3a3629af-a47e-4b4b-b05d-95c3baa7118c",
   "metadata": {},
   "outputs": [],
   "source": [
    "locations_df.to_csv('extracted_locations_japan.csv', index=False)"
   ]
  },
  {
   "cell_type": "code",
   "execution_count": 12,
   "id": "caecd387-6da8-4348-ae48-42fadfc98b96",
   "metadata": {},
   "outputs": [],
   "source": [
    "from geopy.geocoders import Nominatim"
   ]
  },
  {
   "cell_type": "code",
   "execution_count": 13,
   "id": "abbc6909-8e20-4371-930d-f6c5d4b0f4bb",
   "metadata": {},
   "outputs": [],
   "source": [
    "def get_coordinates(location):\n",
    "    geolocator = Nominatim(user_agent=\"location_finder\")\n",
    "    try:\n",
    "        location_info = geolocator.geocode(location)\n",
    "        if location_info:\n",
    "            return location_info.latitude, location_info.longitude\n",
    "        else:\n",
    "            return None, None\n",
    "    except:\n",
    "        return None, None"
   ]
  },
  {
   "cell_type": "code",
   "execution_count": 17,
   "id": "5c6bce0f-5016-4461-9e72-f97002c00aa1",
   "metadata": {},
   "outputs": [
    {
     "data": {
      "text/plain": [
       "(16.083333, 77.166667)"
      ]
     },
     "execution_count": 17,
     "metadata": {},
     "output_type": "execute_result"
    }
   ],
   "source": [
    "get_coordinates('raichur')"
   ]
  },
  {
   "cell_type": "code",
   "execution_count": 14,
   "id": "8298cdae-033d-4a50-92cf-b5581fe9b106",
   "metadata": {},
   "outputs": [],
   "source": [
    "locations_data = []"
   ]
  },
  {
   "cell_type": "code",
   "execution_count": 15,
   "id": "8a810f61-643d-4779-8910-9dcfc9103d13",
   "metadata": {},
   "outputs": [
    {
     "ename": "NameError",
     "evalue": "name 'all_locations' is not defined",
     "output_type": "error",
     "traceback": [
      "\u001b[1;31m---------------------------------------------------------------------------\u001b[0m",
      "\u001b[1;31mNameError\u001b[0m                                 Traceback (most recent call last)",
      "Cell \u001b[1;32mIn[15], line 1\u001b[0m\n\u001b[1;32m----> 1\u001b[0m unique_locations \u001b[38;5;241m=\u001b[39m \u001b[38;5;28mset\u001b[39m(\u001b[43mall_locations\u001b[49m)\n\u001b[0;32m      2\u001b[0m \u001b[38;5;28;01mfor\u001b[39;00m location \u001b[38;5;129;01min\u001b[39;00m tqdm(unique_locations, desc\u001b[38;5;241m=\u001b[39m\u001b[38;5;124m\"\u001b[39m\u001b[38;5;124mGeocoding Locations\u001b[39m\u001b[38;5;124m\"\u001b[39m):\n\u001b[0;32m      3\u001b[0m     frequency \u001b[38;5;241m=\u001b[39m all_locations\u001b[38;5;241m.\u001b[39mcount(location)\n",
      "\u001b[1;31mNameError\u001b[0m: name 'all_locations' is not defined"
     ]
    }
   ],
   "source": [
    "unique_locations = set(all_locations)\n",
    "for location in tqdm(unique_locations, desc=\"Geocoding Locations\"):\n",
    "    frequency = all_locations.count(location)\n",
    "    latitude, longitude = get_coordinates(location)\n",
    "    if latitude is not None and longitude is not None:\n",
    "        locations_data.append({'Location': location, 'Frequency': frequency, 'Latitude': latitude, 'Longitude': longitude})\n"
   ]
  },
  {
   "cell_type": "code",
   "execution_count": 20,
   "id": "e83f10ad-072c-49f4-91ce-ce061e69d1cd",
   "metadata": {},
   "outputs": [],
   "source": [
    "locations_coordinate = pd.DataFrame(locations_data)"
   ]
  },
  {
   "cell_type": "code",
   "execution_count": 21,
   "id": "6d694ef9-880d-42d3-8d09-a2d7c52271bd",
   "metadata": {},
   "outputs": [
    {
     "data": {
      "text/html": [
       "<div>\n",
       "<style scoped>\n",
       "    .dataframe tbody tr th:only-of-type {\n",
       "        vertical-align: middle;\n",
       "    }\n",
       "\n",
       "    .dataframe tbody tr th {\n",
       "        vertical-align: top;\n",
       "    }\n",
       "\n",
       "    .dataframe thead th {\n",
       "        text-align: right;\n",
       "    }\n",
       "</style>\n",
       "<table border=\"1\" class=\"dataframe\">\n",
       "  <thead>\n",
       "    <tr style=\"text-align: right;\">\n",
       "      <th></th>\n",
       "      <th>Location</th>\n",
       "      <th>Frequency</th>\n",
       "      <th>Latitude</th>\n",
       "      <th>Longitude</th>\n",
       "    </tr>\n",
       "  </thead>\n",
       "  <tbody>\n",
       "    <tr>\n",
       "      <th>0</th>\n",
       "      <td>rápida</td>\n",
       "      <td>1</td>\n",
       "      <td>-3.467559</td>\n",
       "      <td>-80.233213</td>\n",
       "    </tr>\n",
       "    <tr>\n",
       "      <th>1</th>\n",
       "      <td>mahadev</td>\n",
       "      <td>1</td>\n",
       "      <td>24.622499</td>\n",
       "      <td>82.173876</td>\n",
       "    </tr>\n",
       "    <tr>\n",
       "      <th>2</th>\n",
       "      <td>delhi</td>\n",
       "      <td>1</td>\n",
       "      <td>28.627393</td>\n",
       "      <td>77.171695</td>\n",
       "    </tr>\n",
       "    <tr>\n",
       "      <th>3</th>\n",
       "      <td>the united states</td>\n",
       "      <td>1</td>\n",
       "      <td>47.828163</td>\n",
       "      <td>-122.598365</td>\n",
       "    </tr>\n",
       "    <tr>\n",
       "      <th>4</th>\n",
       "      <td>united states turkiye</td>\n",
       "      <td>1</td>\n",
       "      <td>40.759698</td>\n",
       "      <td>-73.920210</td>\n",
       "    </tr>\n",
       "    <tr>\n",
       "      <th>...</th>\n",
       "      <td>...</td>\n",
       "      <td>...</td>\n",
       "      <td>...</td>\n",
       "      <td>...</td>\n",
       "    </tr>\n",
       "    <tr>\n",
       "      <th>62</th>\n",
       "      <td>china</td>\n",
       "      <td>9</td>\n",
       "      <td>35.000074</td>\n",
       "      <td>104.999927</td>\n",
       "    </tr>\n",
       "    <tr>\n",
       "      <th>63</th>\n",
       "      <td>الأولى</td>\n",
       "      <td>1</td>\n",
       "      <td>31.180487</td>\n",
       "      <td>31.200973</td>\n",
       "    </tr>\n",
       "    <tr>\n",
       "      <th>64</th>\n",
       "      <td>اپنی</td>\n",
       "      <td>1</td>\n",
       "      <td>43.084762</td>\n",
       "      <td>40.817049</td>\n",
       "    </tr>\n",
       "    <tr>\n",
       "      <th>65</th>\n",
       "      <td>southafrica</td>\n",
       "      <td>1</td>\n",
       "      <td>-26.169444</td>\n",
       "      <td>28.194085</td>\n",
       "    </tr>\n",
       "    <tr>\n",
       "      <th>66</th>\n",
       "      <td>syria</td>\n",
       "      <td>1</td>\n",
       "      <td>34.815354</td>\n",
       "      <td>38.423074</td>\n",
       "    </tr>\n",
       "  </tbody>\n",
       "</table>\n",
       "<p>67 rows × 4 columns</p>\n",
       "</div>"
      ],
      "text/plain": [
       "                 Location  Frequency   Latitude   Longitude\n",
       "0                  rápida          1  -3.467559  -80.233213\n",
       "1                 mahadev          1  24.622499   82.173876\n",
       "2                   delhi          1  28.627393   77.171695\n",
       "3       the united states          1  47.828163 -122.598365\n",
       "4   united states turkiye          1  40.759698  -73.920210\n",
       "..                    ...        ...        ...         ...\n",
       "62                  china          9  35.000074  104.999927\n",
       "63                 الأولى          1  31.180487   31.200973\n",
       "64                   اپنی          1  43.084762   40.817049\n",
       "65            southafrica          1 -26.169444   28.194085\n",
       "66                  syria          1  34.815354   38.423074\n",
       "\n",
       "[67 rows x 4 columns]"
      ]
     },
     "execution_count": 21,
     "metadata": {},
     "output_type": "execute_result"
    }
   ],
   "source": [
    "locations_coordinate"
   ]
  },
  {
   "cell_type": "code",
   "execution_count": 22,
   "id": "abcd641e-36cb-4c9b-9d4f-164fed72a55a",
   "metadata": {},
   "outputs": [],
   "source": [
    "locations_coordinate.to_csv('coordinate_japan.csv', index=False)"
   ]
  },
  {
   "cell_type": "code",
   "execution_count": null,
   "id": "b95e56f1-1783-4ec0-a54c-1c5d412a20b0",
   "metadata": {},
   "outputs": [],
   "source": []
  }
 ],
 "metadata": {
  "kernelspec": {
   "display_name": "Python 3",
   "language": "python",
   "name": "python3"
  },
  "language_info": {
   "codemirror_mode": {
    "name": "ipython",
    "version": 3
   },
   "file_extension": ".py",
   "mimetype": "text/x-python",
   "name": "python",
   "nbconvert_exporter": "python",
   "pygments_lexer": "ipython3",
   "version": "3.12.2"
  }
 },
 "nbformat": 4,
 "nbformat_minor": 5
}
