{
 "cells": [
  {
   "cell_type": "code",
   "execution_count": 1,
   "id": "cf273dcc-4069-48ea-9f7a-99199edb5a46",
   "metadata": {},
   "outputs": [],
   "source": [
    "import pandas as pd\n",
    "import spacy\n",
    "from tqdm import tqdm\n",
    "from spacy.matcher import PhraseMatcher"
   ]
  },
  {
   "cell_type": "code",
   "execution_count": 2,
   "id": "46b35056-e5d4-4285-9e9a-43535e405811",
   "metadata": {},
   "outputs": [],
   "source": [
    "csv_file = 'preprocessed.csv' "
   ]
  },
  {
   "cell_type": "code",
   "execution_count": 3,
   "id": "3907d8ee-14b2-4e5e-a38c-d3c7ff8af924",
   "metadata": {},
   "outputs": [],
   "source": [
    "df = pd.read_csv(csv_file)"
   ]
  },
  {
   "cell_type": "code",
   "execution_count": 4,
   "id": "87d5db6d-ea13-49d0-9b1a-db22fe014ee4",
   "metadata": {},
   "outputs": [
    {
     "data": {
      "text/html": [
       "<div>\n",
       "<style scoped>\n",
       "    .dataframe tbody tr th:only-of-type {\n",
       "        vertical-align: middle;\n",
       "    }\n",
       "\n",
       "    .dataframe tbody tr th {\n",
       "        vertical-align: top;\n",
       "    }\n",
       "\n",
       "    .dataframe thead th {\n",
       "        text-align: right;\n",
       "    }\n",
       "</style>\n",
       "<table border=\"1\" class=\"dataframe\">\n",
       "  <thead>\n",
       "    <tr style=\"text-align: right;\">\n",
       "      <th></th>\n",
       "      <th>Unnamed: 0</th>\n",
       "      <th>id</th>\n",
       "      <th>text</th>\n",
       "      <th>time stamp</th>\n",
       "    </tr>\n",
       "  </thead>\n",
       "  <tbody>\n",
       "    <tr>\n",
       "      <th>0</th>\n",
       "      <td>0</td>\n",
       "      <td>@EN_NERV</td>\n",
       "      <td>Major Tsunami Warning , pm The Tsunami Warning...</td>\n",
       "      <td>2024-01-01</td>\n",
       "    </tr>\n",
       "    <tr>\n",
       "      <th>1</th>\n",
       "      <td>1</td>\n",
       "      <td>@mondoterremoti</td>\n",
       "      <td>Utilizzando i dati preliminari dellUSGS, e riu...</td>\n",
       "      <td>2024-01-06</td>\n",
       "    </tr>\n",
       "    <tr>\n",
       "      <th>2</th>\n",
       "      <td>2</td>\n",
       "      <td>@MacLesggy</td>\n",
       "      <td>Comment une construction antisismique se compo...</td>\n",
       "      <td>2024-01-03</td>\n",
       "    </tr>\n",
       "    <tr>\n",
       "      <th>3</th>\n",
       "      <td>3</td>\n",
       "      <td>@Masabxpct</td>\n",
       "      <td>magnitude. strong earthquake earthquake Noto I...</td>\n",
       "      <td>2024-01-01</td>\n",
       "    </tr>\n",
       "    <tr>\n",
       "      <th>4</th>\n",
       "      <td>4</td>\n",
       "      <td>@Ryo_Saeba_3</td>\n",
       "      <td>Une nouvelle video prise au moment du seisme d...</td>\n",
       "      <td>2024-02-03</td>\n",
       "    </tr>\n",
       "    <tr>\n",
       "      <th>...</th>\n",
       "      <td>...</td>\n",
       "      <td>...</td>\n",
       "      <td>...</td>\n",
       "      <td>...</td>\n",
       "    </tr>\n",
       "    <tr>\n",
       "      <th>1006</th>\n",
       "      <td>1078</td>\n",
       "      <td>@SallySueIam</td>\n",
       "      <td>Replying to</td>\n",
       "      <td>2024-10-06</td>\n",
       "    </tr>\n",
       "    <tr>\n",
       "      <th>1007</th>\n",
       "      <td>1079</td>\n",
       "      <td>@NathanNoonan</td>\n",
       "      <td>Replying to and</td>\n",
       "      <td>2024-10-07</td>\n",
       "    </tr>\n",
       "    <tr>\n",
       "      <th>1008</th>\n",
       "      <td>1080</td>\n",
       "      <td>@mntomorii</td>\n",
       "      <td>Replying to</td>\n",
       "      <td>2024-10-02</td>\n",
       "    </tr>\n",
       "    <tr>\n",
       "      <th>1009</th>\n",
       "      <td>1081</td>\n",
       "      <td>@mrsverypicky</td>\n",
       "      <td>Japans NotoEarthquake thousands of survivors s...</td>\n",
       "      <td>2024-02-14</td>\n",
       "    </tr>\n",
       "    <tr>\n",
       "      <th>1010</th>\n",
       "      <td>1082</td>\n",
       "      <td>@Janis_cats</td>\n",
       "      <td>Replying to and</td>\n",
       "      <td>2024-10-03</td>\n",
       "    </tr>\n",
       "  </tbody>\n",
       "</table>\n",
       "<p>1011 rows × 4 columns</p>\n",
       "</div>"
      ],
      "text/plain": [
       "      Unnamed: 0               id  \\\n",
       "0              0         @EN_NERV   \n",
       "1              1  @mondoterremoti   \n",
       "2              2       @MacLesggy   \n",
       "3              3       @Masabxpct   \n",
       "4              4     @Ryo_Saeba_3   \n",
       "...          ...              ...   \n",
       "1006        1078     @SallySueIam   \n",
       "1007        1079    @NathanNoonan   \n",
       "1008        1080       @mntomorii   \n",
       "1009        1081    @mrsverypicky   \n",
       "1010        1082      @Janis_cats   \n",
       "\n",
       "                                                   text  time stamp  \n",
       "0     Major Tsunami Warning , pm The Tsunami Warning...  2024-01-01  \n",
       "1     Utilizzando i dati preliminari dellUSGS, e riu...  2024-01-06  \n",
       "2     Comment une construction antisismique se compo...  2024-01-03  \n",
       "3     magnitude. strong earthquake earthquake Noto I...  2024-01-01  \n",
       "4     Une nouvelle video prise au moment du seisme d...  2024-02-03  \n",
       "...                                                 ...         ...  \n",
       "1006                                        Replying to  2024-10-06  \n",
       "1007                                    Replying to and  2024-10-07  \n",
       "1008                                        Replying to  2024-10-02  \n",
       "1009  Japans NotoEarthquake thousands of survivors s...  2024-02-14  \n",
       "1010                                    Replying to and  2024-10-03  \n",
       "\n",
       "[1011 rows x 4 columns]"
      ]
     },
     "execution_count": 4,
     "metadata": {},
     "output_type": "execute_result"
    }
   ],
   "source": [
    "df"
   ]
  },
  {
   "cell_type": "code",
   "execution_count": 5,
   "id": "af037b8d-2eb9-414d-9e1c-98de71c038c8",
   "metadata": {},
   "outputs": [],
   "source": [
    "def extract_locations(text):\n",
    "    nlp = spacy.load(\"0fner_model_custom_4_1\")\n",
    "    matcher = PhraseMatcher(nlp.vocab)\n",
    "    # Add custom location names to the matcher\n",
    "    location_patterns = []\n",
    "    for loc in location_patterns:\n",
    "        matcher.add(\"LOCATION\", None, nlp(loc))\n",
    "\n",
    "    doc = nlp(text)\n",
    "    locations = []\n",
    "    \n",
    "    # Extract locations using NER\n",
    "    for ent in doc.ents:\n",
    "        if ent.label_ == 'GPE' or ent.label_ == 'LOC':\n",
    "            locations.append(ent.text)\n",
    "\n",
    "    # Extract additional locations using the custom matcher\n",
    "    matches = matcher(doc)\n",
    "    for match_id, start, end in matches:\n",
    "        span = doc[start:end]\n",
    "        locations.append(span.text)\n",
    "    \n",
    "    return locations"
   ]
  },
  {
   "cell_type": "code",
   "execution_count": 9,
   "id": "ec237cb6-9247-4f58-b3b5-c9b1798aecd7",
   "metadata": {
    "scrolled": true
   },
   "outputs": [
    {
     "name": "stderr",
     "output_type": "stream",
     "text": [
      "Extracting Locations: 100%|██████████| 1011/1011 [08:55<00:00,  1.89it/s]\n"
     ]
    }
   ],
   "source": [
    "# Replace NaN values with empty strings or any other placeholder text you prefer\n",
    "df['text'] = df['text'].fillna(\"Replying to\")\n",
    "\n",
    "all_locations1 = []\n",
    "flags = []\n",
    "\n",
    "for text in tqdm(df['text'], desc=\"Extracting Locations\", total=len(df)):\n",
    "    locations = extract_locations(text)\n",
    "    all_locations1.extend(locations)\n",
    "    \n",
    "    # Set the flag to 1 if locations were found, otherwise 0\n",
    "    flags.append(1 if locations else 0)\n"
   ]
  },
  {
   "cell_type": "code",
   "execution_count": 10,
   "id": "76e7b60e",
   "metadata": {},
   "outputs": [
    {
     "name": "stdout",
     "output_type": "stream",
     "text": [
      "['Tsunami', 'Tsunami', 'Tsunami', 'Those', 'Utilizzando', 'Noto', 'Giappone', 'Noto', 'Noto', 'Ishikawa', 'Japan', 'Tsunami', 'Noto', 'Noto', 'Ishikawa Prefecture', 'Noto', 'Ahora', 'Sacudio', 'Noto', 'Ishikawa', 'Wajima', 'Centro', 'Alerta', 'Tsunamis', 'Noto', 'Ishikawa', 'Kanto', 'Tokio', 'Kanazawa', 'Noto', 'Ishikawa', 'Noto', 'Japao', 'Noto', 'Ishikawa', 'Tsunami', 'Noto', 'Ishikawa', 'Japao', 'Terremoto', 'Nuevos', 'Noto', 'desplazado', 'Noto', 'Ishikawa', 'Noto', 'Giappone', 'Noto', 'Japan', 'Seki', 'Joetsu', 'Niigata Prefecture', 'Tsunami', 'Tsunami', 'Tsunami', 'Those', 'Noto', 'Japan', 'Anamizu', 'Japan', 'Noto', 'Japan', 'Noto', 'Tokio', 'Noto', 'Honshu', 'Kanazawa', 'Noto', 'Noto', 'Seki', 'Joetsu', 'Niigata', 'Tsunami', 'Tsunami', 'Tsunami', 'Tsunami', 'Noto', 'Ishikawa Prefecture', 'japan', 'Tsunami', 'Tsunami', 'Those', 'Noto', 'Ishikawa Prefecture', 'Tsunami', 'Kaiso', 'Noto', 'Parliamo', 'Giappone', 'Noto', 'Ishikawa Prefecture', 'Tsunami', 'Noto', 'Japan', 'Tsunami', 'Tsunami', 'Those', 'Noto', 'Noto', 'Ishikawa', 'Niigata', 'Toyama', 'Ishikawa', 'Sado', 'Agencia', 'Meteorologica', 'Noto', 'Noto-Japon', 'Noto', 'Japan', 'Nagano', 'Shindo', 'Nuevo', 'Noto', 'Kojima', 'EQ-Map', 'Tsunami', 'Noto', 'Japan', 'Noto', 'Terremoto', 'Tsunami', 'Tsunami', 'Those', 'Terremoto', 'Noto', 'Ishikawa Prefecture', 'Ishikawa Prefecture', 'Tsunami', 'Tsunami', 'Tsunami', 'Tsunami', 'Those', 'Noto', 'Ahora', 'Tsunami', 'Tsunami', 'Those', 'Tsunami', 'Noto', 'Ishikawa Prefecture', 'Noto', 'Ishikawa Prefecture', 'Ishikawa Prefecture', 'Terremoto', 'Noto', 'Nahel', 'Belgherze', 'Noto', 'Ishikawa Prefecture', 'Ishikawa Prefecture', 'Tsunami', 'Noto', 'Tras', 'Japon Se', 'Noto', 'Loreto', 'Huatabampo', ', Son', 'Noto', 'Ishikawa Prefecture', 'Ishikawa Prefecture', 'Tsunami', 'TerremotoJapon - Se', 'Noto', 'Sigue', 'Terremoto', 'Noto', 'Noto region', 'Noto', 'Noto', 'Seki', 'Joetsu', 'Niigata Prefecture', 'Noto', 'NotoPeninsulaEarthquake', 'Mwp', 'Tonga', 'Oct', 'Tsunami', 'Mercalli Max', 'Noto', 'Ishikawa Prefecture', 'Noto', 'Ishikawa Prefecture', 'Ishikawa', 'Noto', 'Kaiso', 'Japan', 'Noto', 'Noto', 'Wajima', 'Noto', 'Japan', 'Japan', 'Noto', 'Toyama Prefecture', 'Japan', 'Japan', 'Hokuriku Region', 'Fukui', 'Ishikawa', 'Toyama', 'Terremoto', 'Terremoto', 'Noto', 'Terremoto', 'Noto', 'Asahi', 'Japan', 'Japan', 'Noto', 'Tokyo', 'M.OCEANO', 'Terremoto', 'Noto', 'Japan', 'Tsunami', 'Tsunami', 'Noto region', 'Oct', 'Noto', 'Noto', 'Japan', 'Self-Defense', 'Noto', 'Yamamura', 'Takehiko', 'Noto', 'Noto', 'Wajima', 'Noto', 'Asahi', 'Kanazawa', 'Noto', 'Suzu', 'Noto', 'Noto', 'Japan', 'Anamizu City', 'Noto', 'Notojima', 'Noto', 'Noto', 'Noto', 'Ishikawa Prefecture', 'Japan', 'Mitsuo', 'Hoshi', 'Soka', 'Gakkai', 'Noto', 'Ishikawa', 'Japan', 'Soka', 'Gakkai', 'Yuki', 'Kawanaka', 'Osaka', 'Noto', 'China', 'Speed', 'China', 'Noto', 'Japan', 'China', 'Japan', 'Onigiri', 'Noto', 'Narisawa', 'Noto', 'Escalate', 'Wajima', 'Japan', 'Noto', 'Wajima', 'Navy', 'Guard', 'Noto', 'hashi', 'Noto region', 'Ishikawa Pref', 'Kishida', 'Ishikawa', 'Tsunami', 'Noto', 'Ishikawa', 'Tokyo', 'Japan', 'Earthquke', 'Noto', 'Japan', 'Noto', 'Japan', 'Self-Defense', 'Battalion - Japan', 'Kastner', 'Airfield', 'Noto', 'Ishikawa', 'Japan', 'Noto', 'Ishikawa Prefecture', 'Japan', 'Noto', 'japan', 'Follow', 'Noto', 'Japan', 'Kanazawa', 'Noto', 'Japan - Earthquake', 'Noto', 'Japan', 'Suzu', 'Noto', 'Noto', 'Noto', 'Shigeru', 'Ishiba', 'Noto', 'Ishikawa Prefecture', 'Noto', 'Guard', 'Noto', 'Industry', 'Noto', 'Fuji', 'Noto', 'Noto', 'Nintendo', 'IR', 'Nintendo', 'Noto', 'Nintendo', 'Noto', 'Japan', 'Noto', 'Noto', 'Self-Defense', 'Noto', 'Self-Defense', 'Ishiba', 'Noto', 'Peninsula - this', 'Mishima', 'Kotohira', 'Shrine', 'Nanao', 'Ishikawa Prefecture', 'Noto', 'Noto', 'Kids', 'Kids', 'Noto', 'Noto', 'Cross', 'Gate', 'Kanazawa', 'Ishikawa Pref', 'Noto', 'Japan', 'Noto', 'Japan Red', 'Noto', 'Japan', 'Nagoya', 'Noto', 'Japan', 'Self-Defense', 'Battalion - Japan', 'Kastner', 'Airfield', 'Noto', 'Ishikawa', 'Japan', 'Japan', 'Zama', 'Noto', 'Ishikawa', 'Japan', 'Sakamichi', 'Noto', 'Nogizaka', 'Hinatazaka', 'Sakurazaka', 'Noto', 'Ishikawa Prefecture', 'Notte', 'Stellata', 'Imabari', 'Noto', 'NotteStellata', 'Japan', 'Noto', 'Japan', 'Japan', 'Japan', 'Noto', 'Noto', 'Kawanina-san', 'Noto', 'Japan', 'Noto', 'Noto', 'Yen', 'Noto', 'Noto', 'Noto', 'Ishikawa Prefecture', 'Japan', 'Ishikawa', 'Japan', 'Japan', 'Noto', 'Noto', 'Post-Earthquake', 'Japan', 'Noto', 'Post-Earthquake', 'Japan', 'Noto', 'Akeome', 'Noto', 'Momo', 'Ishikawa Prefecture', 'Noto', 'Yen', 'Noto', 'Noto', 'Noto', 'Noto', 'Japan', 'Japan', 'Noto', 'Ishikawa Prefecture', 'Japan', 'Mobilizes', 'Noto', 'Noto', 'Noto', 'Sapporo', 'Nomura', 'Noto', 'Nomura', 'Noto', 'Japan', 'Noto', 'Noto', 'Japan', 'Japan', 'Noto', 'Noto', 'Japan Pro-', 'Noto', 'Wajima', 'Ishikawa', 'Noto', 'Noto', 'Japan', 'Japan', 'Noto', 'Noto', 'Hats', 'Ishikawa Prefecture', 'Noto', 'Kyodo', 'Japan Pro-', 'Noto', 'Japan', 'Noto', 'Ishikawa Prefecture', 'Japan', 'Allen', 'Noto-Takaoka', 'Naruhito', 'Masako', 'Noto', 'Akira', 'Kosemura', 'Noto', 'Ishikawa', 'Noto', 'Almost', 'Ishikawa', 'Japan', 'Japan', 'Japan', 'Wajima', 'Suzu', 'Noto', 'Noto', 'Japan Pro-', 'Noto', 'Japan', 'Noto', 'Shinjuku City', 'Ishikawa', 'Noto', 'Japan', 'Noto', 'Noto', 'Noto', 'Ishikawa Prefecture', 'Noto', 'Self-Defense', 'Noto', 'Japan', 'Torn', 'Noto', 'Noto', 'Nintendo', 'Noto', 'Nintendo', 'Noto', 'Nintendo', 'Noto', 'Noto', 'Oct', 'Tue', 'Noto', 'Momo', 'Noto', 'Yomiuri', 'Hanyu-san', 'Noto', 'Noto', 'Momo', 'Ishikawa Prefecture', 'Noto', 'Shigeru', 'Ishiba', 'Noto', 'Noto', 'Yuzu', 'Noto', 'Noto', 'Oct', 'Noto', 'Japan', 'Tsunami', 'Noto', 'Noto', 'Nuevos', 'Noto', 'desplazado', 'Wajima-nuri', 'Noto', 'Self-Defense', 'Areas', 'Noto', 'Noto', 'Ishikawa Prefecture', 'Noto', 'Ishikawa Prefecture', 'Self-Defense', 'difficult -', 'Noto', 'earthquake -', 'Inaba - -', 'Surgery -', 'Noto', 'Ishikawa Prefecture', 'KYODO -', 'Noto', 'Japan', 'Noto', 'Japan', 'Toll', 'Japan', 'Noto', 'Japan', 'Japan', 'Japan', 'Toll', 'Japan', 'Noto', 'Japan', 'Japan', 'Ishikawa', 'Japan', 'Noto', 'Japan', 'Kumamoto', 'Japan', 'Hamper', 'Noto', 'Noto', 'Niigata', 'Ishikawa Prefecture', 'Japan', 'Kanagawa Pref', 'Noto', 'Japan', 'Wajima City', 'Ishikawa', 'Toyama', 'Noto', 'Japan', 'Kanagawa Pref', 'Wajima City', 'Ishikawa Pref', 'Noto', 'Japan', 'Noto', 'Japan', 'Noto', 'Noto', 'Japan', 'Noto', 'Aichi', 'Wajima', 'Ishikawa Pref', 'Japan', 'Noto', 'Kyoto Pref', 'Suzu', 'Ishikawa Pref', 'Japan', 'Reiwa', 'Noto', 'Wajima City', 'Ishikawa Prefecture', 'Noto', 'Osaka', 'Ichinose-cho', 'Wajima City', 'Ishikawa Prefecture', 'Noto', 'Osaka Pref', 'Wajima City', 'Ishikawa Pref', 'Japan', 'Noto', 'Japan', 'Japan', 'Noto', 'Ishikawa Prefecture', 'Fumio', 'Kishida', 'Self-Defense', 'Noto', 'Noto', 'Suzu', 'Wajima', 'Noto', 'Terremoto', 'Japan', 'Noto', 'Noto', 'Ishikawa Prefecture', 'Wajima', 'Suzu', 'Heavy', 'Noto', 'Japan', 'Japan', 'Noto', 'Japan', 'Noto', 'Japan', 'Wajima', 'Noto', 'Japan', 'Japan', 'Noto', 'Japan', 'Noto', 'Ishikawa Prefecture', 'Ishikawa Prefecture', 'Japan', 'Sami Al-Zamanan', 'Noto', 'Noto', 'Japan', 'Japan', 'Noto', 'Japan', 'Noto region', 'Noto region', 'Japan', 'Seiji', 'Minami IshikawaPrefecture', 'Japan', 'Tsunami', 'Nagpur-Mumbai', 'Tran', 'Thang', 'Thanh Hoa', 'Japan', 'Saitama', 'Japan', 'Noto', 'Noto region', 'Japan', 'Seiji', 'Minami IshikawaPrefecture', 'Japan', 'Tsunami', 'Noto', 'Noto', 'Noto', 'Ishikawa Prefecture', 'Suzu', 'Noto', 'Ishikawa', 'Japan', 'Toyama', 'Wajima City', 'Noto', 'Ishikawa', 'Japan', 'Ishikawa Prefecture', 'Noto', 'Ishikawa Prefecture', 'Noto', 'Peninsula - .', 'Japao', 'segunda-feira', 'Semenanjung', 'Noto', 'Ishikawa', 'Isnin', 'Tsunami', 'Ishikawa', 'Yabai', 'Noto', 'Ishikawa', 'Noto', 'Giappone', 'hari', 'Meteorologi', 'Ishikawa', 'Niigata', 'Toyama', 'Nagano', 'Noto', 'Terremoto', 'Alerta', 'Noto', 'Matsunami', 'Sake', 'Japan', 'Noto', 'Ishikawa', 'Japan', 'Japan', 'Tsunami', 'Noto', 'Japan', 'Noto', 'Japan', 'Noto', 'Noto', 'Ishikawa Prefecture', 'Noto', 'Peninsula - .', 'Gempa', 'Semenanjung', 'Noto', 'Noto', 'Ishikawa Prefecture', 'Japan', 'Tsunami', 'Japan', 'Noto region', 'Ishikawa', 'Noto', 'Nan-yo', 'Ehime Prefecture', 'Those', 'Noto', 'Ishikawa Prefecture', 'Japan', 'Nuevo', 'Noto', 'Noto', 'Ishikawa', 'Wajima', 'Noto', 'Wajima City', 'Japan', 'Noto', 'Tsunami', 'Noto', 'Japan', 'Yuzuru', 'Hanyu', 'Noto', 'Nogizaka', 'Hinatazaka', 'Noto', 'Yokohama', 'Arena', 'Noto', 'Noto', 'Ishikawa Prefecture', 'Todaiji', 'Noto', 'Noto', 'Yuzuru', 'Hanyu', 'Kanazawa', 'Noto', 'Noto', 'Noto', 'Ishikawa Prefecture', 'Yuzuru', 'Hanyu', 'Kanazawa', 'Noto', 'Noto', 'Japan', 'Nankai', 'Japan', 'Ukraine', 'Noto', 'Japan', 'Noto', 'Japan', 'Earst', 'Japan', 'Noto', 'Monzenmachi', 'Wajima City', 'Noto', 'Noto', 'Japan', 'NorthCarolina', 'Japan', 'Ishikawa', 'Noto', 'Kanazawa', 'NotoPeninsulaEarthquake', 'Wajima', 'Noto', 'Wajima', 'Noto', 'Wajima', 'Noto', 'Isla', 'Mitsuke', 'Suzu', 'Ishikawa', 'Nanao', 'Nanao', 'Noto', 'Years', 'Newsweek', 'Yuzu', 'Noto', 'Noto', 'Noto', 'Oct', 'Yaguchi-sans', 'Japan', 'Noto', 'Chang', 'Guojun', 'Liu', 'Lihua', 'Tokyo', 'Suzu', 'Noto', 'Noto', 'Noto', 'Yuzuru', 'Hanyu', 'Takahito Mura', 'Akiko', 'Suzuki', 'Satoko', 'Miyahara', 'Ishikawa Prefecture', 'Noto', 'Noto', 'Noto', 'Kakuda', 'Noto', 'Noto', 'Hanyu', 'Noto', 'Noto', 'Reiwa', 'Noto', 'Nanao City', 'Ishikawa Prefecture', 'e-book', 'Hanyu', 'Noto', 'Hanyu', 'Noto', 'YuzuruHanyu', 'Haneda', 'Noto', 'Years', 'Noto', 'Ishikawa prefecture', 'Japan', 'Wajima', 'Uotani', 'Noto', 'Ishiba', 'Noto', 'Ishikawa Prefecture', 'Noto', 'Yuzuru', 'Hanyus', 'Yuzuru', 'Hanyu', 'Hanyu', 'Noto', 'YuzuruHanyu', 'Hanyu', 'Noto', 'Noto', 'Noto', 'Ishikawa Prefecture', 'NotoPeninsulaEarthquake', 'Noto', 'Sendai', 'Tanabata', 'Sendai', 'Noto', 'Ishikawa Prefecture', 'Noto', 'Ishikawa', 'Noto', 'Industry', 'Noto', 'Noto', 'Toros', 'Noto', 'Hanyu', 'Noto', 'two-time', 'Tadakazu', 'Sado', '-year-old', 'Hiroshima', 'Noto', 'Itatani', 'Noto', 'Noto', 'Noto', 'Japan', 'Japan', 'Noto', 'Ishikawa Prefecture', 'Aomori', 'Nebuta', 'Aomori', 'Nebuta', '-year-old', 'Noto', 'Yuzuru', 'Hanyu', 'Noto', 'Wajima', 'Suzu', 'Noto', 'Ishikawa Prefecture', 'Noto', 'Noto', 'Noto', 'Hanyu', 'Ishikawa Prefecture', 'Japan', 'NotoPeninsulaEarthquake', 'Reiwa', 'Noto', 'Noto', 'Suno', 'Noto', 'Noto', 'Heavy', 'Noto', 'Noto', 'Noto', 'Ishikawa Prefecture', 'Hanyu', 'Noto', 'Japan - Disaster', 'Noto', 'Wajima', 'Noto', 'Hanyu', 'Noto', 'Noto', 'Hiroshi', 'Hase', 'Noto', 'Hanyu', 'Noto', 'Yomiuri', 'Shigeo', 'Nagashima', 'Ishikawa', 'Noto', 'Noto', 'Noto', 'Hanyu', 'Noto', 'Hanyu', 'Noto', 'Hanyu', 'Noto', 'Noto', 'Okunoto', 'Ishikawa Prefecture', 'Noto', 'Noto', 'Noto', 'Noto', 'Ishikawa Prefecture', 'Noto', 'Noto', 'Aiko', 'Shika', 'Nanao City', 'Ishikawa Prefecture', 'Noto', 'Ishikawa Prefecture', 'Those', 'Noto', 'Noto', 'Hanyu', 'Noto', 'Hanyu', 'Said', 'Noto', 'Hanyu', 'Noto', 'Hanyu', 'Noto', 'Noto', 'Ishikawa Prefecture', 'Noto', 'Hanyu', 'Noto', 'Yuzuru', 'Hanyu', 'Noto', 'Hanyu', 'Noto', 'Hanyu', 'Noto', 'Hanyu', 'Noto', 'Yuzuru', 'Hanyu', 'Noto', 'Noto', 'Suzu', 'Noto', 'Hanyu', 'Noto', 'Hanyu', 'Noto', 'Hanyu', 'Noto', 'YuzuruHanyu', 'Kishida', 'Ishikawa Prefecture', 'Noto', 'Yuzuru', 'Hanyu', 'Noto', 'Japan', 'Hanyu', 'Noto', 'YuzuruHanyu', 'Hanyu', 'Noto', 'Kishida', 'Noto', 'Hanyu', 'Noto', 'Hanyu', 'Noto', 'Hanyu', 'Noto', 'Japan', 'Noto', 'Hanyu', 'Noto', 'YuzuruHanyu', 'Hanyu', 'Noto', 'two-time', 'Hanyu', 'Yuzuru', 'Hanyu', 'Noto', 'YuzuruHanyu', 'Yuzuru', 'Hanyu', 'Hanyu', 'Noto', 'Machino', 'Wajima', 'Ishikawa Prefecture', 'Noto', 'Nanao', 'Ishikawa', 'Japan', 'Japan', 'Ishikawa prefecture', 'Tsunami', 'Japan', 'Shinkansen', 'Japan', 'Shinkansen', 'Ishikawa prefecture', 'Tsunami', 'Ishikawa', 'Japao', 'Terremoto', 'Ishikawa prefecture', 'Tsunami', 'Japan', 'Japan', 'Tsunami', 'Ishikawa Prefecture', 'Japan', 'Japan', 'Ishikawa', 'Japan', 'Tsunami', 'Wajima', 'Ishikawa', 'Japan', 'Ishikawas', 'Onominato', 'Shrine', 'Ishikawa', 'Shrine', 'Niigata', 'Niigata', 'Ishikawa', 'Tsunami', 'Ishikawa', 'Japan', 'Wajima', 'Ishikawa prefecture', 'Ishikawa', 'Ishikawa', 'Kanazawa', 'Toyama', 'japan', 'Ishikawa', 'Niigata', 'Toyama', 'Japan', 'Kanazawa', 'Ishikawa Prefecture', 'Japan', 'Japan', 'Ishikawa', 'Ishikawa', 'Japan', 'Solomon', 'Ishikawa', 'Japan', 'Ishikawa Prefecture', 'Tsunami', 'Toyama Prefecture', 'Ishikawa Prefecture', 'Japan', 'Ishikawa prefecture', 'Tsunami', 'Japan', 'Ishikawa', 'Ishikawa', 'Noto', 'Ishikawa', 'Japan', 'Terremoto', 'Komatsu', 'Ishikawa', 'Japan', 'Wajima', 'Ishikawa', 'Japan', 'japan', 'Ishikawa Prefecture', 'Japan', 'Yen', 'Ishikawa Prefecture', 'Noto', 'Tsunami', 'Japan', 'Ishikawa', 'japan', 'Ishikawa', 'Ishikawa', 'Terremoto', 'Ishikawa', 'Ishikawa Prefecture', 'Hokuriku', 'Japan', 'Tsunamis', 'Uchinada', 'Ishikawa', 'Japan', 'Uchinada', 'Ishikawa', 'Japan', 'Uchinada', 'Ishikawa', 'Japan', 'Japan', 'Ishikawa Prefecture', 'Ishikawa', 'Japan', 'Japan', 'Tsunami', 'Anamizu', 'Ishikawa', 'Japan', 'Prefectura', 'Ishikawa', 'Ishikawa Prefecture', 'Ishikawa prefecture', 'Tsunami', 'Japan', 'Ishikawa Prefecture', 'Suzu City', 'Niigata', 'Toyama', 'Ishikawa', 'Ishikawa Prefecture', 'Tsunami', 'Japan Sea', 'Japan', 'Ishikawa', 'Wajima - Around', '. -', 'Ishikawa', 'Japan', 'Horyumachi', 'Ishikawa -,', 'Japan', 'Uchinada', 'Ishikawa', 'Japan', 'Ishikawa', 'Noto', 'Japan', 'Noto region', 'Ishikawa Prefecture', 'Ishikawa', 'Ishikawa', 'Japan', 'Kanazawa', 'Kanazawa', 'Japan', 'Kanazawa', 'Ishikawa', 'Wajima', 'Ishikawa Prefecture', 'Ishikawa Prefecture', 'Japan', 'Niigata', 'Toyama', 'Ishikawa', 'Japan Sea', 'Ishikawa', 'Agencia', 'Meteorologica', 'Nanao', 'Ishikawa', 'Japan', 'Int', 'Ishikawa', 'Noto Int', '. -', 'Niigata', 'Chuetsu', 'Int', 'Niigata', 'Joetsu', 'Niigata', 'Kaetsu', 'Niigata', 'Sado', 'Toyama', 'Toyama', 'Ishikawa', 'Kaga', 'Fukui', 'Ishikawa Prefecture', 'Nakayama', 'Natsume', 'Ishikawa', 'Noto', 'Ishikawa', 'Japan', 'Ishikawa', 'Wajima', 'Ishikawa', 'Japan', 'Japan', 'Ishikawa', 'Noto', 'Ishikawa Prefecture', 'Those', 'Nishonoseki', 'Ishikawa prefecture', 'Noto', 'Ishikawa', 'Nanao', 'Ishikawa', 'Japan', 'Noto', 'Ishikawa Prefecture', 'Japan', 'Ishikawa Prefecture', 'Ishikawa', 'Okinawa', 'Japan', 'Ishikawa prefecture', 'Ishikawa', 'Ishikawa Prefecture', 'Nanao', 'Ishikawa', 'Japan', 'Noto', 'Ishikawa Prefecture', 'Yuzu', 'Wajima', 'Ishikawa prefecture', 'Noto', 'Noto', 'Ishikawa Prefecture', 'Int', 'Ishikawa', 'Noto Int', 'Niigata', 'Joetsu', 'Niigata', 'Chuetsu', 'Int', 'Niigata', 'Kaetsu', 'Niigata', 'Sado', 'Toyama', 'Toyama', 'Ishikawa', 'Kaga', 'Nagano', 'Ishikawa Prefecture', 'Noto region', 'japan', 'Ishikawa Prefecture', 'Japan', 'Tsunamis', 'Sorry', 'Ishikawa', 'Tsunamis', 'Ishikawa Prefecture', 'Japan', 'Tsunami', 'Japan', 'Ishikawa Prefecture', 'Ishikawa Prefecture', 'Japan', 'Ishikawa', 'Japan', 'Ishikawa Prefecture', 'Japan', 'Japan Sea', 'Ishikawa Prefecture', 'Japan', 'Japan Sea', 'Ishikawa Prefecture', 'Japan', 'Ishikawa Prefecture', 'Japan', 'Japan Sea', 'Tsunami', 'Ishikawa Prefecture', 'Japan', 'Japan', 'Ishikawa Prefecture', 'Japan', 'Japan', 'Ishikawa Prefecture', 'Ishikawa', 'Ishikawa', 'Ishikawa Prefecture', 'Kanazawa', 'Ishikawa Prefecture', 'Ishikawa Prefecture', 'Tsunami', 'Niigata', 'Toyama', 'Yamagata', 'Fukui', 'Hyogo', 'Japan Sea', 'Ishikawa Prefecture', 'Japan', 'Japan Sea', 'Ishikawa Prefecture', 'Japan', 'Japan Sea', 'Ishikawa', 'Ishikawa Prefecture', 'Tsunami', 'Japan', 'Ishikawa', 'Japan', 'Tsunami', 'Tras', 'Ishikawa', 'Aqui', 'Alerta', 'Tsunami', 'Ishikawa', 'Haga', 'Terremoto', 'Ishikawa', 'Ishikawa', 'Japan', 'Naruhito', 'Masako', 'Ishikawa Prefecture', 'Anamizu', 'Noto', 'Earthquake -', 'Nanao', 'Ishikawa', 'Japan', 'Noto', 'Noto', 'Ishikawa Prefecture', 'Asaichi-dori', 'Wajima', 'Ishikawa Prefecture', 'Japan', 'Ishikawa Prefecture', 'Japan - Jan.', 'Compilation - YouTube', 'Ichinose cho', 'Ishikawa Prefecture', 'Ishikawa', 'Japan', 'Matsumoto', 'Ishikawa', '-year-old', 'Noto', 'Kamikawa', 'Japan', 'Turkmenistan', 'Noto', 'Ishikawa', 'Ishikawa prefecture', 'Ishikawa prefecture', 'Ishikawa Prefecture', 'Japan', 'Palette', 'Earthquake -', 'Anamizu', 'Ishikawa', 'Japan', 'Date', 'Noto region', 'Ishikawa Prefecture', 'Japan', 'Earthquake - km', 'Anamizu', 'Ishikawa', 'Japan', 'Earthquake - km', 'Anamizu', 'Ishikawa', 'Japan', 'Earthquake - km', 'Nanao', 'Ishikawa', 'Japan', 'Earthquake - km', 'Anamizu', 'Ishikawa', 'Japan', 'Earthquake -', 'Anamizu', 'Ishikawa', 'Japan', 'Ishikawa', 'Notopeninsula', 'Nanao', 'Ishikawa', 'Japan', 'Earthquake - km', 'Kanazawa', 'Ishikawa', 'Japan', 'Earthquake - km', 'Nanao', 'Ishikawa', 'Japan', 'Naruhito', 'Wajima City', 'Ishikawa Prefecture', 'Noto', 'Japan', 'Date', 'Noto region', 'Ishikawa Prefecture', 'Japan', 'Noto', 'Ishikawa Prefecture', 'Kumamoto', 'Noto', 'Ishikawa Prefecture', 'Ishikawa', 'Ishikawa', 'Kishida', 'Ishikawa Prefecture', 'Noto', 'Ishikawa', 'Japan', 'Noto Satoyama', 'Kaido', 'Ishikawa', 'Japan', 'Japan', 'Suzu', 'Ishikawa', 'Japan', 'Japan', 'Nanao', 'Ishikawa', 'Japan', 'Wajima', 'Ishikawa', 'Japan', 'Japan', 'Anamizu', 'Ishikawa', 'Japan', 'Japan', 'Ishikawa', 'Okinawa', 'Japan', 'U.S.', 'Wajima City', 'Ishikawa Prefecture', 'Noto region', 'Ishikawa Prefecture', 'Japan', 'Noto', 'Ishikawa Prefecture', 'Noto', 'Ishikawa Prefecture', 'Japan', 'Noto', 'Ishikawa - Living', 'Ishikawa', 'Japan', 'Tsunami', 'Ishikawa', 'Japan', 'Tsunami', 'Kishida', 'Ishikawa Prefecture', 'Noto', 'Ishikawa Pref', 'Japan', 'Noto', 'Ishikawa Prefecture', 'Ishikawa prefecture', 'Noto', 'Ishikawa Prefecture', 'Ishikawa', 'Japan', 'Japan', 'Suzu', 'Ishikawa', 'Japan', 'Japan', 'Noto', 'Ishikawa Prefecture', 'Noto Region', 'Ishikawa Prefecture', 'Japan', 'Ishikawa prefecture', 'Japan', 'Wajima', 'Hanyu', 'Yuzuru', 'Wajima', 'Ishikawa Prefecture', 'Noto', 'Ishikawa', 'Noto', 'Japan', 'Ishikawa', 'Noto', 'Noto', 'Ishikawa Prefecture', 'Ishikawa', 'Noto', 'Noto', 'Ishikawa Prefecture', 'Editor-in-chief', 'Noto', 'Ishikawa Prefecture', 'Japan', 'Ishikawa', 'Haneda', 'Japan', 'Gyoda', 'Noto region', 'Noto', 'Ishikawa Prefecture', 'Suzu', 'Ishikawa Prefecture', 'Ishikawa', 'Japan', 'Years', 'Noto region', 'Ishikawa Prefecture', 'Noto region', 'Ishikawa Prefecture', 'Japan', 'Noto', 'Ishikawa Prefecture', 'Japan', 'Ishikawa', 'Nanao', 'Noto', 'Yuka', 'Noto region', 'Ishikawa Prefecture', 'Japan', 'Noto region', 'Ishikawa Prefecture', 'Japan', 'Noto', 'Ishikawa Prefecture', 'Noto region', 'Ishikawa', 'Noto Region', 'Ishikawa Pref', 'Noto', 'Noto', 'Ishikawa prefecture', 'M.', 'Japan', 'Ishikawa', 'Nanao', 'Ishikawa', 'Noto region', 'Ishikawa', 'Japan', 'Japan', 'Noto region', 'Ishikawa Prefecture', 'Noto', 'Prefectura', 'Ishikawa', 'Terremoto', 'Japan', 'Japan', 'Noto', 'Ishikawa Prefecture', 'Japan', 'Noto', 'Ishikawa Prefecture', 'Japan', 'Ishikawa', 'Nanao', 'Ishikawa', 'Noto region', 'Ishikawa', 'Japan', 'Noto', 'Japan', 'Noto', 'Noto', 'Ishikawa', 'Noto region', 'Ishikawa', 'Japan', 'Noto', 'Noto region', 'Ishikawa Prefecture', 'Noto region', 'Noto region', 'Ishikawa', 'japan', 'Japan', 'Noto region', 'Ishikawa Prefecture', 'Ishikawa', 'Noto region', 'Ishikawa', 'Japan', 'Shindo', 'Ishikawa Prefecture', 'Noto region', 'japan', 'Ishikawa Prefecture', 'Noto region', 'japan', 'Kishida', 'Noto region', 'Japan', 'Japan', 'Noto region', 'Noto region', 'Noto region', 'Japan', 'Noto region', 'Ishikawa', 'Noto region', 'Ishikawa', 'Japan', 'Shindo', 'Ishikawa Prefecture', 'Noto region', 'japan', 'Ishikawa Prefecture', 'Noto region', 'japan', 'Chang', 'Guang', 'Noto region', 'Ishikawa prefecture', 'Japan', 'Noto', 'Prefectura', 'Ishikawa', 'Terremoto', 'Japan', 'Noto', 'Noto region', 'Ishikawa Prefecture', 'Japan', 'Kanazawa', 'Ishikawa', 'Kishida', 'Noto region', 'Japan', 'Noto region', 'Ishikawa Prefecture', 'Noto region', 'Ishikawa prefecture', 'Ishikawa Prefecture', 'Japan', 'Noto region', 'Japan', 'Noto', 'Ishikawa', 'Japan', 'Japan', 'Japan', 'Noto', 'Ishikawa prefecture', 'Shindo', 'Ishikawa Prefecture', 'Noto region', 'japan', 'Ishikawa Prefecture', 'Noto region', 'japan', 'Japan', 'Noto', 'Ishikawa Prefecture', 'Yukas', 'Noto region', 'Japan', 'Noto', 'Noto region', 'Ishikawa Prefecture', 'Japan', 'Wataru', 'Endo', 'OLSCJapan', 'Endo', 'Kanazawa', 'Ishikawa', 'Noto region', 'Ishikawa', 'Endo', 'Ishikawa', 'Kanazawa', 'Mitsuhiko', 'Takada', 'Wajima', 'Noto', 'Tradition', 'Kizuna', 'Noto', 'China', 'Akita', 'Hachijojima', 'Noto region', 'Ishikawa Prefecture', 'Shonai', 'Niigata', 'Noto', 'Toyama', 'Komatsu', 'Noto', 'Ishikawa prefecture', 'Noto region', 'Wataru', 'Endo', 'Kanazawa', 'Ishikawa', 'Noto region', 'Ishikawa', 'Noto', 'Ishikawa prefecture', 'Earthquake -', 'Japan', 'Sony Group', 'Noto', 'Noto', 'Noto region', 'Noto', 'Noto', 'Noto region', 'japan', 'Ishikawa Prefecture', 'Noto region', 'Wajima', 'Ishikawa prefecture', 'Noto region', 'Ishikawa prefecture', 'Tsunami', 'Japan', 'Wajima', 'Noto region', 'Ishikawa prefecture', 'Heavy', 'Hokuriku region', 'Noto', 'Hokuriku region', 'Noto region', 'Japan', 'Yuzus', 'Noto region', 'Noto region', 'Ishikawa', 'japan', 'Noto', 'Kishida', 'Ethiopia', 'Japan', 'Noto region', 'Noto region', 'Ishikawa Prefecture', 'Man-made', 'Japan', 'Illuminati', 'Noto region', 'Ishikawa Prefecture', 'Japan', 'Tohoku region', 'Noto region', 'Date', 'Noto', 'Noto', 'Date', 'Noto region', 'Ishikawa Prefecture', 'Japan', 'Noto region', 'Ishikawa Prefecture', 'Ishikawa Prefecture', 'Ishikawa Prefecture', 'Noto', 'Wajima', 'Ishikawa', 'Noto region', 'Ishikawa prefecture', 'Tsunami', 'Japan', 'Yahoo', 'Noto region', 'Yahoo', 'Yahoo', 'Shindo', 'Ishikawa Prefecture', 'Noto region', 'japan', 'Noto region', 'Ishikawa Prefecture', 'Ishikawa Prefecture', 'Noto region', 'Tsunami', 'Noto', 'Okunoto region', 'Noto', 'Japan', 'Noto Region', 'Ishikawa Prefecture', 'Tsunami', 'Japan', 'Noto region', 'Noto region', 'Ishikawa prefecture', 'Japan', 'Noto', 'Noto', 'Ishikawa Prefecture', 'Noto region', 'Japan', 'Japan', 'Noto region', 'Ishikawa Prefecture', 'Japan', 'Tsunami', 'Noto region', 'Kenya', 'Kenya', 'Japan', 'UTC - reportinfo', 'Noto region', 'Ishikawa prefecture', 'japan', 'Japan', 'Noto region', 'Ishikawa', 'Noto region', 'Ishikawa', 'Noto', 'Japan', 'Ishikawa Prefecture', 'Kanazawa', 'Noto region', 'Noto', 'Noto', 'Noto', 'Noto region', 'Noto', 'Noto', 'Noto', 'Ishikawa Prefecture', 'Hiromu', 'Takahashi', 'Kanazawa', 'Noto Region', 'Suzu', 'Ishikawa', 'Noto region', 'Ishikawa prefecture', 'Hayashi', 'Yoshimasa', 'Noto', 'Noto region', 'Ishikawa Prefecture', 'Japan', 'Noto region', 'Noto region', 'Ishikawa', 'Japan', 'Tsunami', 'Tsunami', 'Noto Region', 'Japan', 'Tsunami', 'Ishikawa', 'Noto', 'Ishikawa prefecture', 'Japan', 'Noto region', 'Noto region', 'Ishikawa Prefecture', 'Japan', 'Noto', 'Ishikawa Prefecture', 'Noto region', 'Ishikawa', 'Noto', 'Instituto', 'Transito', 'Ishikawa Prefecture', 'Japan', 'Noto region', 'Ishikawa Prefecture', 'Japan', 'Noto', 'Ishikawa', 'Hanshin-Awaji', 'Hyogo Pref', 'Noto', 'Japan', 'Ishikawa', 'Kimana', 'Seiko', 'Matsunami', 'Sake', 'Noto', 'Noto region', 'Ishikawa Prefecture', 'Ishikawa Prefecture', 'Japan', 'Noto region', 'Noto', 'Ishikawa', 'Japan', 'Nagano', 'Noto', 'Japan', 'Tsunami', 'Honshu Sea', 'Japan', 'Noto', 'Toyama', 'Sado', 'Noto region', 'Ishikawa Prefecture', 'Ishikawa Prefecture', 'Nagano', 'japan', 'Noto', 'Tokyo', 'Noto', 'Ishikawa', 'Ishikawa Prefecture', 'Japan', 'Noto region', 'Noto', 'Ishikama', 'Servicio', 'Tras', 'Tsunami', 'Noto', 'Terremoto', 'Temblor', 'Epicentro', 'Norte', 'Alli', 'Noto', 'Nicolo', 'Noto', 'Arigato', 'Noto', 'Nagano', 'Noto', 'Japan', 'Tsunami', 'Nagano', 'Noto', 'Japan', 'Tsunami', 'Wajima City', 'Noto', 'Ishikawa Prefecture', 'Shika', 'Noto region', 'Japan', 'Tsunami', 'Ishikawa', 'Ishikawa', 'Ishikawa', 'Noto', 'Ishikawa', 'Japan Sea', 'Japan', 'Noto', 'Suzu', 'Japan', 'Noto', 'Nagano', 'Noto', 'Japan', 'Tsunami', 'Nagano', 'Noto', 'Tsunami', 'japan', 'Noto', 'Noto region', 'Ishikawa Prefecture', 'Noto', 'Japan', 'Suzu', 'Japan', 'Noto region', 'M.', 'Japan', 'Noto', 'Ishikawa Prefecture', 'Wajima', 'Noto region', 'Ishikawa', 'Noto', 'Ishikawa prefecture', 'Japan', 'Tsunami', 'Japan', 'Wajima', 'Noto region', 'Ishikawa', 'Wajima', 'Ishikawa', 'Noto', 'Noto', 'Noto region', 'Ishikawa Prefecture', 'Japan', 'Ishikawa Prefecture', 'Noto', 'Andy', 'Years', 'Japan', 'Ishikawa', 'Noto', 'Japan', 'Off', 'Noto', 'Noto', 'Fukui', 'Noto', 'Sake', 'Suzu', 'Noto', 'Investigate', 'Noto', 'Japan', 'Nanao', 'Noto', 'Japan', 'Noto', 'Noto', 'Nanao', 'Ishikawa prefecture', 'Noto region', 'Japan', 'Noto', 'Noto', 'Guard', 'Toyama', 'Noto', 'Noto region', 'Ishikawa Prefecture', 'Sitija', 'kojem', 'Ishikawa Prefecture', 'Noto region', 'Ishikawa Prefecture', 'Noto', 'Noto', 'Noto region', 'Ishikawa Prefecture', 'Fukushima Daiichi', 'Japan', 'Noto', 'Ishikawa Prefecture', 'Tsunami', 'Noto', 'Essa', 'Japan', 'Noto region', 'Ishikawa Prefecture', 'Noto', 'Noto', 'Noto', 'Ishikawa Prefecture', 'Japan', 'Noto', 'Japan', 'Ishikawa Prefecture', 'Noto region', 'Ishikawa', 'Noto', 'Ishikawa Prefecture', 'Noto region', 'Ishikawa', 'Japan', 'Noto', 'Shiga', 'Ishikawa Prefecture', 'Noto region', 'Ishikawa Prefecture', 'Noto', 'Ishikawa', 'Sado', 'Niigata', 'ishikawa', 'Tsunami', 'Noto', 'Noto', 'Ishikawa Prefecture', 'Japan', 'Noto region', 'Ishikawa Prefecture', 'Noto', 'Ishikawa Prefecture', 'Tsunami', 'Noto region', 'Ishikawa Prefecture', 'Matsunami', 'Noto', 'Tsunami', 'Japan', 'Noto', 'Japan', 'Noto', 'Noto', 'Ishikawa Prefecture', 'Shiga', 'Hakui', 'Wajima City', 'Nanao', 'Ishikawa Prefecture', 'Kishida', 'Noto', 'Noto region', 'Ishikawa Prefecture', 'Noto region', 'Ishikawa Prefecture', 'Ishikawa Prefecture', 'Noto region', 'M.', 'Japan', 'Noto', 'Japan', 'Wajima', 'Nieuwjaarsdag - waren', 'Estoy', 'Noto', 'Ishikawa Prefecture', 'Noto region', 'Ishikawa', 'Noto', 'Ishikawa Prefecture', 'Japan', 'Noto region', 'Noto', 'Japan', 'Japan', 'Noto', 'Japan', 'Japan', 'hentai', 'japan', 'Nuevos', 'Noto', 'desplazado', 'Japan', 'Noto', 'Naruhito', 'Masako', 'Aiko', 'Noto', 'Japan', 'Sakamoto', 'Japan', 'Noto', 'Noto', 'Noto', 'Noto', 'Nintendo', 'Noto', 'Toshiba Tec', 'Noto', 'Toshiba Tec', 'Noto', 'Nanao City', 'Makoto', 'Ojiros', 'Nanao City', 'Tadakazu', 'Sado', '-year-old', 'Hiroshima', 'Japan', 'Noto', 'Noto', 'Noto', 'Japan', 'ICYMI -', 'Nintendo', 'Noto', 'Japan', 'Noto', 'Japan', 'Aiji', 'Tanaka', 'Noto', 'Noto', 'Noto', 'Kis-My-Ft', 'Japan', 'Noto', 'Hanto', 'Noto', 'Ishikawa', 'Noto', 'Noto', 'Fault', 'Noto', 'Japan', 'Tsunamis', 'Iida', 'Iida', 'Noto', 'Iida Bay', 'Noto', 'Noto', 'Noto', 'Shallow M.', 'Noto', 'M.', 'Japan', 'Noto', 'Noto', 'Reiwa', 'Noto', 'Noto', 'Japan', 'Jesus', 'Noto', 'Noto', 'Noto', 'Tsunami', 'Japan', 'Noto', 'Ishikawa Prefecture', 'Tokyo', 'Kyodo', 'Noto', 'Japan', 'Yuka Saso', 'U.S.', 'Noto', 'Japan', 'Noto', 'Impact - AFX', 'Noto', 'Hanto', '- -', 'Noto', 'Kyodo', 'Kobe', 'Noto', 'Hanshin', 'Japan', 'Nadeshiko', 'Japan', 'Japan', 'Noto', 'Noto', 'Ghana', 'Noto', 'Japan-based', 'Noto', 'Noto', 'ishikawa', 'Tokyo', 'Noto', 'Tokyo', 'Noto', 'Noto', 'Noto', 'Project -', 'Noto', 'Japan', 'Japan', 'Japan', 'Japan', 'Noto', 'Japan', 'Shika', 'Ishikawa Prefecture', 'Noto', 'Noto', 'Ehime', 'Japan', 'Noto', 'Noto', 'Noto', 'Noto', 'Noto', 'Japan', 'Nakabayashi', 'Noto', 'Noto', 'Hanyu', 'Yuzuru', 'Wajima', 'Ishikawa Prefecture', 'Noto', 'YuzuruHanyu', 'Japan', 'Kishida', 'Noto', 'Noto', 'Kyodo', 'Japan', 'Japan', 'Japan', 'Noto', 'Shunichi', 'Suzuki', 'Noto', 'Associate', 'Hideaki', 'Hiroshima', 'Universitys', 'Noto', 'Noto', 'Noto', 'Ishikawa', 'Noto', 'Wajima City', 'Pit-House', 'Noto', 'Noto', 'Noto', 'Self-Defense', 'Noto', 'Japan', 'Sake', 'Noto', 'Noto', 'Japan', 'Japan', 'Noto', 'Noto', 'earthquake - via', 'Japan', 'Noto', 'Noto', 'Noto', 'Noto', 'Allen', 'Noto', 'Noto', 'Noto', 'Ahora', 'Noto region', 'Noto', 'Noam Ben', 'Nova', 'Noto', 'Ishikawa Prefecture', 'Japan', 'Hoje', 'Noto', 'Noto', 'Yoshimi', 'Tomita', 'Suzu', 'Yoshimi', 'Tomita', 'Noto', 'Tomita', 'Noto', 'Noto', 'Suzu', 'Gabriel', 'Gabriel', 'Amir', 'Oct', 'Nova', 'Gabriel', 'Noam Ben', 'Nova', 'Noto', 'Noto', 'Japan', 'Noto', 'Andy', 'sharesJapan', 'Noto', 'Japan - where', 'Noto', 'Noto', 'Noto region', 'Ishikawa prefecture', 'Japan', 'Japan', 'Robin', 'Japan', 'Noto', 'Japan', 'Noto', 'Japan', 'Noto', 'Japan', 'Noto', 'Ishikawa', 'Noto', 'Noto', 'Japan', 'Noto', 'Noto', 'Japan', 'Noam', 'Nova', 'David', 'Noto', 'Japan', 'Ill', 'Nova', 'Noto', 'Japan', 'Years', 'Noto', 'Noto', 'Japan', 'English-language', 'Ishikawa', 'Noto', 'Ishikawa', 'Noto', 'Japan', 'Noto', 'Noto', 'japan', 'Noto', 'Himi City', 'Indian-style', 'Noto', 'Yuzu', 'Noto', 'Wajima City', 'Ishikawa Prefecture', 'Noto', 'Japan', 'Eitan', 'Halley', 'Nova', 'Noto', 'Noto', '-year-old', 'Suzu', 'Japan', 'Japan', 'Noto', 'Takahito Mura', 'Akiko', 'Suzuki', 'Satoko', 'Miyahara', 'Yorker', 'Sanandaji', 'Noto', 'Noto', 'Japan', 'Japan', 'Guard', 'Haneda', 'Noto', 'japan', 'Hanyu', 'Yuzuru', 'Noto', 'Japo', 'Noto', 'Japan', 'Noto', 'Noto', 'Noto', 'Noto', 'Noto', 'Noto', 'Noto', 'Matondkar', 'Noto', 'Uchi', 'Noto', 'Noto', 'Miyagi', 'Hanyu', 'Yuzuru', 'Noto', 'Noto', 'Noto', 'Kis-My-Ft', 'George', 'Noto', 'Noto', 'Noto', 'Noto', 'Ishikawa prefecture', 'Noto', 'Japan', 'Miyagi', 'Noto', 'Noto']\n"
     ]
    }
   ],
   "source": [
    "\n",
    "# Add the flag column to the DataFrame\n",
    "df['flag1'] = flags\n",
    "# Print or use the list of all locations\n",
    "print(all_locations1)"
   ]
  },
  {
   "cell_type": "code",
   "execution_count": 11,
   "id": "7bbe0ec7",
   "metadata": {},
   "outputs": [],
   "source": [
    "count_ones = df['flag1'].sum()"
   ]
  },
  {
   "cell_type": "code",
   "execution_count": 12,
   "id": "1e4bc0bf",
   "metadata": {},
   "outputs": [
    {
     "data": {
      "text/plain": [
       "924"
      ]
     },
     "execution_count": 12,
     "metadata": {},
     "output_type": "execute_result"
    }
   ],
   "source": [
    "count_ones"
   ]
  },
  {
   "cell_type": "code",
   "execution_count": 13,
   "id": "aad96207-78df-46e7-8458-5a24097d2c0e",
   "metadata": {},
   "outputs": [],
   "source": [
    "locations_df = pd.DataFrame(all_locations1, columns=['Location'])"
   ]
  },
  {
   "cell_type": "code",
   "execution_count": 14,
   "id": "ede1b47b-2dbb-4dd2-982a-57b55edc0450",
   "metadata": {},
   "outputs": [
    {
     "data": {
      "text/html": [
       "<div>\n",
       "<style scoped>\n",
       "    .dataframe tbody tr th:only-of-type {\n",
       "        vertical-align: middle;\n",
       "    }\n",
       "\n",
       "    .dataframe tbody tr th {\n",
       "        vertical-align: top;\n",
       "    }\n",
       "\n",
       "    .dataframe thead th {\n",
       "        text-align: right;\n",
       "    }\n",
       "</style>\n",
       "<table border=\"1\" class=\"dataframe\">\n",
       "  <thead>\n",
       "    <tr style=\"text-align: right;\">\n",
       "      <th></th>\n",
       "      <th>Location</th>\n",
       "    </tr>\n",
       "  </thead>\n",
       "  <tbody>\n",
       "    <tr>\n",
       "      <th>0</th>\n",
       "      <td>Tsunami</td>\n",
       "    </tr>\n",
       "    <tr>\n",
       "      <th>1</th>\n",
       "      <td>Tsunami</td>\n",
       "    </tr>\n",
       "    <tr>\n",
       "      <th>2</th>\n",
       "      <td>Tsunami</td>\n",
       "    </tr>\n",
       "    <tr>\n",
       "      <th>3</th>\n",
       "      <td>Those</td>\n",
       "    </tr>\n",
       "    <tr>\n",
       "      <th>4</th>\n",
       "      <td>Utilizzando</td>\n",
       "    </tr>\n",
       "    <tr>\n",
       "      <th>...</th>\n",
       "      <td>...</td>\n",
       "    </tr>\n",
       "    <tr>\n",
       "      <th>2586</th>\n",
       "      <td>Noto</td>\n",
       "    </tr>\n",
       "    <tr>\n",
       "      <th>2587</th>\n",
       "      <td>Japan</td>\n",
       "    </tr>\n",
       "    <tr>\n",
       "      <th>2588</th>\n",
       "      <td>Miyagi</td>\n",
       "    </tr>\n",
       "    <tr>\n",
       "      <th>2589</th>\n",
       "      <td>Noto</td>\n",
       "    </tr>\n",
       "    <tr>\n",
       "      <th>2590</th>\n",
       "      <td>Noto</td>\n",
       "    </tr>\n",
       "  </tbody>\n",
       "</table>\n",
       "<p>2591 rows × 1 columns</p>\n",
       "</div>"
      ],
      "text/plain": [
       "         Location\n",
       "0         Tsunami\n",
       "1         Tsunami\n",
       "2         Tsunami\n",
       "3           Those\n",
       "4     Utilizzando\n",
       "...           ...\n",
       "2586         Noto\n",
       "2587        Japan\n",
       "2588       Miyagi\n",
       "2589         Noto\n",
       "2590         Noto\n",
       "\n",
       "[2591 rows x 1 columns]"
      ]
     },
     "execution_count": 14,
     "metadata": {},
     "output_type": "execute_result"
    }
   ],
   "source": [
    "locations_df"
   ]
  },
  {
   "cell_type": "code",
   "execution_count": 15,
   "id": "3a3629af-a47e-4b4b-b05d-95c3baa7118c",
   "metadata": {},
   "outputs": [],
   "source": [
    "locations_df.to_csv('extracted_locations_japan.csv', index=False)"
   ]
  },
  {
   "cell_type": "code",
   "execution_count": 16,
   "id": "caecd387-6da8-4348-ae48-42fadfc98b96",
   "metadata": {},
   "outputs": [],
   "source": [
    "from geopy.geocoders import Nominatim"
   ]
  },
  {
   "cell_type": "code",
   "execution_count": 17,
   "id": "abbc6909-8e20-4371-930d-f6c5d4b0f4bb",
   "metadata": {},
   "outputs": [],
   "source": [
    "def get_coordinates(location):\n",
    "    geolocator = Nominatim(user_agent=\"location_finder\")\n",
    "    try:\n",
    "        location_info = geolocator.geocode(location)\n",
    "        if location_info:\n",
    "            return location_info.latitude, location_info.longitude\n",
    "        else:\n",
    "            return None, None\n",
    "    except:\n",
    "        return None, None"
   ]
  },
  {
   "cell_type": "code",
   "execution_count": 18,
   "id": "5c6bce0f-5016-4461-9e72-f97002c00aa1",
   "metadata": {},
   "outputs": [
    {
     "data": {
      "text/plain": [
       "(16.054719400000003, 76.90036472411589)"
      ]
     },
     "execution_count": 18,
     "metadata": {},
     "output_type": "execute_result"
    }
   ],
   "source": [
    "get_coordinates('raichur')"
   ]
  },
  {
   "cell_type": "code",
   "execution_count": 19,
   "id": "8298cdae-033d-4a50-92cf-b5581fe9b106",
   "metadata": {},
   "outputs": [],
   "source": [
    "locations_data = []"
   ]
  },
  {
   "cell_type": "code",
   "execution_count": 20,
   "id": "8a810f61-643d-4779-8910-9dcfc9103d13",
   "metadata": {},
   "outputs": [
    {
     "name": "stderr",
     "output_type": "stream",
     "text": [
      "Geocoding Locations: 100%|██████████| 391/391 [04:48<00:00,  1.35it/s]\n"
     ]
    }
   ],
   "source": [
    "unique_locations = set(all_locations1)\n",
    "for location in tqdm(unique_locations, desc=\"Geocoding Locations\"):\n",
    "    frequency = all_locations1.count(location)\n",
    "    latitude, longitude = get_coordinates(location)\n",
    "    if latitude is not None and longitude is not None:\n",
    "        locations_data.append({'Location': location, 'Frequency': frequency, 'Latitude': latitude, 'Longitude': longitude})\n"
   ]
  },
  {
   "cell_type": "code",
   "execution_count": 21,
   "id": "e83f10ad-072c-49f4-91ce-ce061e69d1cd",
   "metadata": {},
   "outputs": [],
   "source": [
    "locations_coordinate = pd.DataFrame(locations_data)"
   ]
  },
  {
   "cell_type": "code",
   "execution_count": 22,
   "id": "6d694ef9-880d-42d3-8d09-a2d7c52271bd",
   "metadata": {},
   "outputs": [
    {
     "data": {
      "text/html": [
       "<div>\n",
       "<style scoped>\n",
       "    .dataframe tbody tr th:only-of-type {\n",
       "        vertical-align: middle;\n",
       "    }\n",
       "\n",
       "    .dataframe tbody tr th {\n",
       "        vertical-align: top;\n",
       "    }\n",
       "\n",
       "    .dataframe thead th {\n",
       "        text-align: right;\n",
       "    }\n",
       "</style>\n",
       "<table border=\"1\" class=\"dataframe\">\n",
       "  <thead>\n",
       "    <tr style=\"text-align: right;\">\n",
       "      <th></th>\n",
       "      <th>Location</th>\n",
       "      <th>Frequency</th>\n",
       "      <th>Latitude</th>\n",
       "      <th>Longitude</th>\n",
       "    </tr>\n",
       "  </thead>\n",
       "  <tbody>\n",
       "    <tr>\n",
       "      <th>0</th>\n",
       "      <td>Those</td>\n",
       "      <td>10</td>\n",
       "      <td>52.507007</td>\n",
       "      <td>10.125575</td>\n",
       "    </tr>\n",
       "    <tr>\n",
       "      <th>1</th>\n",
       "      <td>Tomita</td>\n",
       "      <td>3</td>\n",
       "      <td>36.316161</td>\n",
       "      <td>139.528807</td>\n",
       "    </tr>\n",
       "    <tr>\n",
       "      <th>2</th>\n",
       "      <td>Terremoto</td>\n",
       "      <td>18</td>\n",
       "      <td>42.882648</td>\n",
       "      <td>-8.533842</td>\n",
       "    </tr>\n",
       "    <tr>\n",
       "      <th>3</th>\n",
       "      <td>Chuetsu</td>\n",
       "      <td>2</td>\n",
       "      <td>35.645037</td>\n",
       "      <td>139.801408</td>\n",
       "    </tr>\n",
       "    <tr>\n",
       "      <th>4</th>\n",
       "      <td>Japan Pro-</td>\n",
       "      <td>3</td>\n",
       "      <td>35.646771</td>\n",
       "      <td>139.676588</td>\n",
       "    </tr>\n",
       "    <tr>\n",
       "      <th>...</th>\n",
       "      <td>...</td>\n",
       "      <td>...</td>\n",
       "      <td>...</td>\n",
       "      <td>...</td>\n",
       "    </tr>\n",
       "    <tr>\n",
       "      <th>326</th>\n",
       "      <td>Zama</td>\n",
       "      <td>1</td>\n",
       "      <td>35.499205</td>\n",
       "      <td>139.420453</td>\n",
       "    </tr>\n",
       "    <tr>\n",
       "      <th>327</th>\n",
       "      <td>Instituto</td>\n",
       "      <td>1</td>\n",
       "      <td>38.376782</td>\n",
       "      <td>-0.419217</td>\n",
       "    </tr>\n",
       "    <tr>\n",
       "      <th>328</th>\n",
       "      <td>Kanagawa Pref</td>\n",
       "      <td>2</td>\n",
       "      <td>35.447354</td>\n",
       "      <td>139.641635</td>\n",
       "    </tr>\n",
       "    <tr>\n",
       "      <th>329</th>\n",
       "      <td>Loreto</td>\n",
       "      <td>1</td>\n",
       "      <td>-5.000000</td>\n",
       "      <td>-75.000000</td>\n",
       "    </tr>\n",
       "    <tr>\n",
       "      <th>330</th>\n",
       "      <td>Himi City</td>\n",
       "      <td>1</td>\n",
       "      <td>36.859151</td>\n",
       "      <td>136.987330</td>\n",
       "    </tr>\n",
       "  </tbody>\n",
       "</table>\n",
       "<p>331 rows × 4 columns</p>\n",
       "</div>"
      ],
      "text/plain": [
       "          Location  Frequency   Latitude   Longitude\n",
       "0            Those         10  52.507007   10.125575\n",
       "1           Tomita          3  36.316161  139.528807\n",
       "2        Terremoto         18  42.882648   -8.533842\n",
       "3          Chuetsu          2  35.645037  139.801408\n",
       "4       Japan Pro-          3  35.646771  139.676588\n",
       "..             ...        ...        ...         ...\n",
       "326           Zama          1  35.499205  139.420453\n",
       "327      Instituto          1  38.376782   -0.419217\n",
       "328  Kanagawa Pref          2  35.447354  139.641635\n",
       "329         Loreto          1  -5.000000  -75.000000\n",
       "330      Himi City          1  36.859151  136.987330\n",
       "\n",
       "[331 rows x 4 columns]"
      ]
     },
     "execution_count": 22,
     "metadata": {},
     "output_type": "execute_result"
    }
   ],
   "source": [
    "locations_coordinate"
   ]
  },
  {
   "cell_type": "code",
   "execution_count": 23,
   "id": "abcd641e-36cb-4c9b-9d4f-164fed72a55a",
   "metadata": {},
   "outputs": [],
   "source": [
    "locations_coordinate.to_csv('coordinate_japan.csv', index=False)"
   ]
  },
  {
   "cell_type": "code",
   "execution_count": 24,
   "id": "b95e56f1-1783-4ec0-a54c-1c5d412a20b0",
   "metadata": {},
   "outputs": [
    {
     "name": "stdout",
     "output_type": "stream",
     "text": [
      "<class 'pandas.core.frame.DataFrame'>\n",
      "RangeIndex: 331 entries, 0 to 330\n",
      "Data columns (total 4 columns):\n",
      " #   Column     Non-Null Count  Dtype  \n",
      "---  ------     --------------  -----  \n",
      " 0   Location   331 non-null    object \n",
      " 1   Frequency  331 non-null    int64  \n",
      " 2   Latitude   331 non-null    float64\n",
      " 3   Longitude  331 non-null    float64\n",
      "dtypes: float64(2), int64(1), object(1)\n",
      "memory usage: 10.5+ KB\n"
     ]
    }
   ],
   "source": [
    "locations_coordinate.info()"
   ]
  },
  {
   "cell_type": "code",
   "execution_count": 46,
   "id": "59da7767",
   "metadata": {},
   "outputs": [],
   "source": [
    "import folium\n",
    "from branca.colormap import LinearColormap\n",
    "import pandas as pd\n",
    "import numpy as np\n",
    "\n",
    "# Sample data loading (replace this with your actual DataFrame)\n",
    "# df = pd.DataFrame({...})\n",
    "\n",
    "# Create a base map centered on an average location\n",
    "m = folium.Map(location=[20, 0], zoom_start=2)\n",
    "\n",
    "# Define a colormap for frequency values\n",
    "colormap = LinearColormap(colors=['orange', 'red', 'brown', 'black','white','blue'], vmin=locations_coordinate['Frequency'].min(), vmax=locations_coordinate['Frequency'].max())\n",
    "\n",
    "# Add markers to the map\n",
    "for _, row in locations_coordinate.iterrows():\n",
    "    folium.CircleMarker(\n",
    "        location=[row['Latitude'], row['Longitude']],\n",
    "        radius=np.log(row['Frequency']+10)*5,  # Adjust size scaling factor as needed\n",
    "        color=colormap(row['Frequency']),\n",
    "        fill=True,\n",
    "        fill_color=colormap(row['Frequency']),\n",
    "        fill_opacity=0.6,\n",
    "        popup=folium.Popup(f\"{row['Location']}: {row['Frequency']}\", parse_html=True)\n",
    "    ).add_to(m)\n",
    "\n",
    "# Add color legend\n",
    "colormap.caption = 'Frequency'\n",
    "colormap.add_to(m)\n",
    "\n",
    "# Display map\n",
    "m.save(\"world_map.html\")\n"
   ]
  },
  {
   "cell_type": "code",
   "execution_count": null,
   "id": "6da6efac",
   "metadata": {},
   "outputs": [],
   "source": []
  }
 ],
 "metadata": {
  "kernelspec": {
   "display_name": "Python 3",
   "language": "python",
   "name": "python3"
  },
  "language_info": {
   "codemirror_mode": {
    "name": "ipython",
    "version": 3
   },
   "file_extension": ".py",
   "mimetype": "text/x-python",
   "name": "python",
   "nbconvert_exporter": "python",
   "pygments_lexer": "ipython3",
   "version": "3.12.2"
  }
 },
 "nbformat": 4,
 "nbformat_minor": 5
}
