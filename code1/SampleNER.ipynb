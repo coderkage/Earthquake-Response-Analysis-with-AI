{
 "cells": [
  {
   "cell_type": "code",
   "execution_count": 9,
   "id": "cf273dcc-4069-48ea-9f7a-99199edb5a46",
   "metadata": {},
   "outputs": [],
   "source": [
    "import pandas as pd\n",
    "import spacy\n",
    "from tqdm import tqdm\n",
    "from spacy.matcher import PhraseMatcher"
   ]
  },
  {
   "cell_type": "code",
   "execution_count": 10,
   "id": "46b35056-e5d4-4285-9e9a-43535e405811",
   "metadata": {},
   "outputs": [],
   "source": [
    "csv_file = 'preprocessed_0f_iraq_iran.csv' "
   ]
  },
  {
   "cell_type": "code",
   "execution_count": 23,
   "id": "3907d8ee-14b2-4e5e-a38c-d3c7ff8af924",
   "metadata": {},
   "outputs": [],
   "source": [
    "df = pd.read_csv(csv_file)"
   ]
  },
  {
   "cell_type": "code",
   "execution_count": 24,
   "id": "87d5db6d-ea13-49d0-9b1a-db22fe014ee4",
   "metadata": {},
   "outputs": [
    {
     "data": {
      "text/html": [
       "<div>\n",
       "<style scoped>\n",
       "    .dataframe tbody tr th:only-of-type {\n",
       "        vertical-align: middle;\n",
       "    }\n",
       "\n",
       "    .dataframe tbody tr th {\n",
       "        vertical-align: top;\n",
       "    }\n",
       "\n",
       "    .dataframe thead th {\n",
       "        text-align: right;\n",
       "    }\n",
       "</style>\n",
       "<table border=\"1\" class=\"dataframe\">\n",
       "  <thead>\n",
       "    <tr style=\"text-align: right;\">\n",
       "      <th></th>\n",
       "      <th>text</th>\n",
       "      <th>date</th>\n",
       "      <th>category</th>\n",
       "      <th>processed_text</th>\n",
       "    </tr>\n",
       "  </thead>\n",
       "  <tbody>\n",
       "    <tr>\n",
       "      <th>0</th>\n",
       "      <td>RT @PressTV: UPDATE: Death toll from Iran’s qu...</td>\n",
       "      <td>13_11_2017</td>\n",
       "      <td>injured_or_dead_people</td>\n",
       "      <td>rt update death toll from iran quake rises to ...</td>\n",
       "    </tr>\n",
       "    <tr>\n",
       "      <th>1</th>\n",
       "      <td>RT @CAFOD: We pray for all those affected by t...</td>\n",
       "      <td>13_11_2017</td>\n",
       "      <td>not_humanitarian</td>\n",
       "      <td>rt we pray for all those affected by the earth...</td>\n",
       "    </tr>\n",
       "    <tr>\n",
       "      <th>2</th>\n",
       "      <td>RT @ReutersWorld: JUST IN: Death toll reaches ...</td>\n",
       "      <td>13_11_2017</td>\n",
       "      <td>injured_or_dead_people</td>\n",
       "      <td>rt just in death toll reaches in iran earthqua...</td>\n",
       "    </tr>\n",
       "    <tr>\n",
       "      <th>3</th>\n",
       "      <td>RT @LaylaAlhussein: A magnitude 7.2 earthquake...</td>\n",
       "      <td>13_11_2017</td>\n",
       "      <td>other_relevant_information</td>\n",
       "      <td>rt magnitude earthquake struck northern iraq i...</td>\n",
       "    </tr>\n",
       "    <tr>\n",
       "      <th>4</th>\n",
       "      <td>RT @LaylaAlhussein: A magnitude 7.2 earthquake...</td>\n",
       "      <td>13_11_2017</td>\n",
       "      <td>other_relevant_information</td>\n",
       "      <td>rt magnitude earthquake struck northern iraq i...</td>\n",
       "    </tr>\n",
       "    <tr>\n",
       "      <th>...</th>\n",
       "      <td>...</td>\n",
       "      <td>...</td>\n",
       "      <td>...</td>\n",
       "      <td>...</td>\n",
       "    </tr>\n",
       "    <tr>\n",
       "      <th>592</th>\n",
       "      <td>Damage proxy maps of 5 cities near the epicent...</td>\n",
       "      <td>18_11_2017</td>\n",
       "      <td>infrastructure_and_utility_damage</td>\n",
       "      <td>damage proxy maps of cities near the epicenter...</td>\n",
       "    </tr>\n",
       "    <tr>\n",
       "      <th>593</th>\n",
       "      <td>#Iran Daily: US Treasury Blocks Donations for ...</td>\n",
       "      <td>18_11_2017</td>\n",
       "      <td>rescue_volunteering_or_donation_effort</td>\n",
       "      <td>iran daily us treasury blocks donations for e...</td>\n",
       "    </tr>\n",
       "    <tr>\n",
       "      <th>594</th>\n",
       "      <td>#Kurdish children's situation after the #earth...</td>\n",
       "      <td>18_11_2017</td>\n",
       "      <td>affected_individuals</td>\n",
       "      <td>kurdish children situation after the earthqua...</td>\n",
       "    </tr>\n",
       "    <tr>\n",
       "      <th>595</th>\n",
       "      <td>#IRAN'S #EARTHQUAKE EXPOSES #POLITICAL RIFTS A...</td>\n",
       "      <td>18_11_2017</td>\n",
       "      <td>other_relevant_information</td>\n",
       "      <td>iran earthquake exposes political rifts and i...</td>\n",
       "    </tr>\n",
       "    <tr>\n",
       "      <th>596</th>\n",
       "      <td>Victims of last week's earthquake gather outdo...</td>\n",
       "      <td>18_11_2017</td>\n",
       "      <td>affected_individuals</td>\n",
       "      <td>victims of last week earthquake gather outdoor...</td>\n",
       "    </tr>\n",
       "  </tbody>\n",
       "</table>\n",
       "<p>597 rows × 4 columns</p>\n",
       "</div>"
      ],
      "text/plain": [
       "                                                  text        date  \\\n",
       "0    RT @PressTV: UPDATE: Death toll from Iran’s qu...  13_11_2017   \n",
       "1    RT @CAFOD: We pray for all those affected by t...  13_11_2017   \n",
       "2    RT @ReutersWorld: JUST IN: Death toll reaches ...  13_11_2017   \n",
       "3    RT @LaylaAlhussein: A magnitude 7.2 earthquake...  13_11_2017   \n",
       "4    RT @LaylaAlhussein: A magnitude 7.2 earthquake...  13_11_2017   \n",
       "..                                                 ...         ...   \n",
       "592  Damage proxy maps of 5 cities near the epicent...  18_11_2017   \n",
       "593  #Iran Daily: US Treasury Blocks Donations for ...  18_11_2017   \n",
       "594  #Kurdish children's situation after the #earth...  18_11_2017   \n",
       "595  #IRAN'S #EARTHQUAKE EXPOSES #POLITICAL RIFTS A...  18_11_2017   \n",
       "596  Victims of last week's earthquake gather outdo...  18_11_2017   \n",
       "\n",
       "                                   category  \\\n",
       "0                    injured_or_dead_people   \n",
       "1                          not_humanitarian   \n",
       "2                    injured_or_dead_people   \n",
       "3                other_relevant_information   \n",
       "4                other_relevant_information   \n",
       "..                                      ...   \n",
       "592       infrastructure_and_utility_damage   \n",
       "593  rescue_volunteering_or_donation_effort   \n",
       "594                    affected_individuals   \n",
       "595              other_relevant_information   \n",
       "596                    affected_individuals   \n",
       "\n",
       "                                        processed_text  \n",
       "0    rt update death toll from iran quake rises to ...  \n",
       "1    rt we pray for all those affected by the earth...  \n",
       "2    rt just in death toll reaches in iran earthqua...  \n",
       "3    rt magnitude earthquake struck northern iraq i...  \n",
       "4    rt magnitude earthquake struck northern iraq i...  \n",
       "..                                                 ...  \n",
       "592  damage proxy maps of cities near the epicenter...  \n",
       "593   iran daily us treasury blocks donations for e...  \n",
       "594   kurdish children situation after the earthqua...  \n",
       "595   iran earthquake exposes political rifts and i...  \n",
       "596  victims of last week earthquake gather outdoor...  \n",
       "\n",
       "[597 rows x 4 columns]"
      ]
     },
     "execution_count": 24,
     "metadata": {},
     "output_type": "execute_result"
    }
   ],
   "source": [
    "df"
   ]
  },
  {
   "cell_type": "code",
   "execution_count": 27,
   "id": "af037b8d-2eb9-414d-9e1c-98de71c038c8",
   "metadata": {},
   "outputs": [],
   "source": [
    "def extract_locations(text):\n",
    "    nlp = spacy.load(\"en_core_web_sm\")\n",
    "    matcher = PhraseMatcher(nlp.vocab)\n",
    "    # Add custom location names to the matcher\n",
    "    location_patterns = []\n",
    "    for loc in location_patterns:\n",
    "        matcher.add(\"LOCATION\", None, nlp(loc))\n",
    "\n",
    "    doc = nlp(text)\n",
    "    locations = []\n",
    "    \n",
    "    # Extract locations using NER\n",
    "    for ent in doc.ents:\n",
    "        if ent.label_ == 'GPE' or ent.label_ == 'LOC':\n",
    "            locations.append(ent.text)\n",
    "\n",
    "    # Extract additional locations using the custom matcher\n",
    "    matches = matcher(doc)\n",
    "    for match_id, start, end in matches:\n",
    "        span = doc[start:end]\n",
    "        locations.append(span.text)\n",
    "    \n",
    "    return locations"
   ]
  },
  {
   "cell_type": "code",
   "execution_count": 29,
   "id": "4906620b-5a5f-45a4-8ac7-d443a6854700",
   "metadata": {},
   "outputs": [],
   "source": [
    "data = {\n",
    "    'processed_text': [\n",
    "        \"I live in iraq. morocco is a beautiful city.\",\n",
    "        \"I visited tehran last year. It's a nice place.\",\n",
    "        \"There's a conference in iraq and iran next month.\",\n",
    "        \"I'm planning to move to iraq iraq soon.\"\n",
    "    ]\n",
    "}\n",
    "\n",
    "# Create DataFrame\n",
    "df1 = pd.DataFrame(data)"
   ]
  },
  {
   "cell_type": "code",
   "execution_count": 32,
   "id": "ec237cb6-9247-4f58-b3b5-c9b1798aecd7",
   "metadata": {},
   "outputs": [
    {
     "name": "stderr",
     "output_type": "stream",
     "text": [
      "Extracting Locations: 100%|██████████████████████████████████████████████████████████████| 4/4 [00:01<00:00,  2.02it/s]"
     ]
    },
    {
     "name": "stdout",
     "output_type": "stream",
     "text": [
      "['iraq', 'morocco', 'iraq', 'iran', 'iraq', 'iraq']\n"
     ]
    },
    {
     "name": "stderr",
     "output_type": "stream",
     "text": [
      "\n"
     ]
    }
   ],
   "source": [
    "all_locations1 = []\n",
    "for text in tqdm(df1['processed_text'], desc=\"Extracting Locations\", total=len(df1)):\n",
    "    locations = extract_locations(text)\n",
    "    all_locations1.extend(locations)\n",
    "\n",
    "# Print or use the list of all locations\n",
    "print(all_locations1)"
   ]
  },
  {
   "cell_type": "code",
   "execution_count": 33,
   "id": "aad96207-78df-46e7-8458-5a24097d2c0e",
   "metadata": {},
   "outputs": [],
   "source": [
    "locations_df1 = pd.DataFrame(all_locations1, columns=['Location'])"
   ]
  },
  {
   "cell_type": "code",
   "execution_count": 34,
   "id": "ede1b47b-2dbb-4dd2-982a-57b55edc0450",
   "metadata": {},
   "outputs": [
    {
     "data": {
      "text/html": [
       "<div>\n",
       "<style scoped>\n",
       "    .dataframe tbody tr th:only-of-type {\n",
       "        vertical-align: middle;\n",
       "    }\n",
       "\n",
       "    .dataframe tbody tr th {\n",
       "        vertical-align: top;\n",
       "    }\n",
       "\n",
       "    .dataframe thead th {\n",
       "        text-align: right;\n",
       "    }\n",
       "</style>\n",
       "<table border=\"1\" class=\"dataframe\">\n",
       "  <thead>\n",
       "    <tr style=\"text-align: right;\">\n",
       "      <th></th>\n",
       "      <th>Location</th>\n",
       "    </tr>\n",
       "  </thead>\n",
       "  <tbody>\n",
       "    <tr>\n",
       "      <th>0</th>\n",
       "      <td>iraq</td>\n",
       "    </tr>\n",
       "    <tr>\n",
       "      <th>1</th>\n",
       "      <td>morocco</td>\n",
       "    </tr>\n",
       "    <tr>\n",
       "      <th>2</th>\n",
       "      <td>iraq</td>\n",
       "    </tr>\n",
       "    <tr>\n",
       "      <th>3</th>\n",
       "      <td>iran</td>\n",
       "    </tr>\n",
       "    <tr>\n",
       "      <th>4</th>\n",
       "      <td>iraq</td>\n",
       "    </tr>\n",
       "    <tr>\n",
       "      <th>5</th>\n",
       "      <td>iraq</td>\n",
       "    </tr>\n",
       "  </tbody>\n",
       "</table>\n",
       "</div>"
      ],
      "text/plain": [
       "  Location\n",
       "0     iraq\n",
       "1  morocco\n",
       "2     iraq\n",
       "3     iran\n",
       "4     iraq\n",
       "5     iraq"
      ]
     },
     "execution_count": 34,
     "metadata": {},
     "output_type": "execute_result"
    }
   ],
   "source": [
    "locations_df1"
   ]
  },
  {
   "cell_type": "code",
   "execution_count": 35,
   "id": "3a3629af-a47e-4b4b-b05d-95c3baa7118c",
   "metadata": {},
   "outputs": [],
   "source": [
    "locations_df1.to_csv('extracted_locations1.csv', index=False)"
   ]
  },
  {
   "cell_type": "code",
   "execution_count": 36,
   "id": "caecd387-6da8-4348-ae48-42fadfc98b96",
   "metadata": {},
   "outputs": [],
   "source": [
    "from geopy.geocoders import Nominatim"
   ]
  },
  {
   "cell_type": "code",
   "execution_count": 37,
   "id": "abbc6909-8e20-4371-930d-f6c5d4b0f4bb",
   "metadata": {},
   "outputs": [],
   "source": [
    "def get_coordinates(location):\n",
    "    geolocator = Nominatim(user_agent=\"location_finder\")\n",
    "    try:\n",
    "        location_info = geolocator.geocode(location)\n",
    "        if location_info:\n",
    "            return location_info.latitude, location_info.longitude\n",
    "        else:\n",
    "            return None, None\n",
    "    except:\n",
    "        return None, None"
   ]
  },
  {
   "cell_type": "code",
   "execution_count": 40,
   "id": "5c6bce0f-5016-4461-9e72-f97002c00aa1",
   "metadata": {},
   "outputs": [
    {
     "data": {
      "text/plain": [
       "(16.083333, 77.166667)"
      ]
     },
     "execution_count": 40,
     "metadata": {},
     "output_type": "execute_result"
    }
   ],
   "source": [
    "get_coordinates('raichur')"
   ]
  },
  {
   "cell_type": "code",
   "execution_count": 42,
   "id": "8298cdae-033d-4a50-92cf-b5581fe9b106",
   "metadata": {},
   "outputs": [],
   "source": [
    "locations_data = []"
   ]
  },
  {
   "cell_type": "code",
   "execution_count": 43,
   "id": "8a810f61-643d-4779-8910-9dcfc9103d13",
   "metadata": {},
   "outputs": [
    {
     "name": "stderr",
     "output_type": "stream",
     "text": [
      "Geocoding Locations: 100%|███████████████████████████████████████████████████████████████| 3/3 [00:03<00:00,  1.32s/it]\n"
     ]
    }
   ],
   "source": [
    "unique_locations = set(all_locations1)\n",
    "for location in tqdm(unique_locations, desc=\"Geocoding Locations\"):\n",
    "    frequency = all_locations1.count(location)\n",
    "    latitude, longitude = get_coordinates(location)\n",
    "    if latitude is not None and longitude is not None:\n",
    "        locations_data.append({'Location': location, 'Frequency': frequency, 'Latitude': latitude, 'Longitude': longitude})\n"
   ]
  },
  {
   "cell_type": "code",
   "execution_count": 44,
   "id": "e83f10ad-072c-49f4-91ce-ce061e69d1cd",
   "metadata": {},
   "outputs": [],
   "source": [
    "locations_coordinate1 = pd.DataFrame(locations_data)"
   ]
  },
  {
   "cell_type": "code",
   "execution_count": 45,
   "id": "6d694ef9-880d-42d3-8d09-a2d7c52271bd",
   "metadata": {},
   "outputs": [
    {
     "data": {
      "text/html": [
       "<div>\n",
       "<style scoped>\n",
       "    .dataframe tbody tr th:only-of-type {\n",
       "        vertical-align: middle;\n",
       "    }\n",
       "\n",
       "    .dataframe tbody tr th {\n",
       "        vertical-align: top;\n",
       "    }\n",
       "\n",
       "    .dataframe thead th {\n",
       "        text-align: right;\n",
       "    }\n",
       "</style>\n",
       "<table border=\"1\" class=\"dataframe\">\n",
       "  <thead>\n",
       "    <tr style=\"text-align: right;\">\n",
       "      <th></th>\n",
       "      <th>Location</th>\n",
       "      <th>Frequency</th>\n",
       "      <th>Latitude</th>\n",
       "      <th>Longitude</th>\n",
       "    </tr>\n",
       "  </thead>\n",
       "  <tbody>\n",
       "    <tr>\n",
       "      <th>0</th>\n",
       "      <td>iran</td>\n",
       "      <td>1</td>\n",
       "      <td>32.647531</td>\n",
       "      <td>54.564352</td>\n",
       "    </tr>\n",
       "    <tr>\n",
       "      <th>1</th>\n",
       "      <td>morocco</td>\n",
       "      <td>1</td>\n",
       "      <td>28.334772</td>\n",
       "      <td>-10.371338</td>\n",
       "    </tr>\n",
       "    <tr>\n",
       "      <th>2</th>\n",
       "      <td>iraq</td>\n",
       "      <td>4</td>\n",
       "      <td>33.095579</td>\n",
       "      <td>44.174977</td>\n",
       "    </tr>\n",
       "  </tbody>\n",
       "</table>\n",
       "</div>"
      ],
      "text/plain": [
       "  Location  Frequency   Latitude  Longitude\n",
       "0     iran          1  32.647531  54.564352\n",
       "1  morocco          1  28.334772 -10.371338\n",
       "2     iraq          4  33.095579  44.174977"
      ]
     },
     "execution_count": 45,
     "metadata": {},
     "output_type": "execute_result"
    }
   ],
   "source": [
    "locations_coordinate1"
   ]
  },
  {
   "cell_type": "code",
   "execution_count": 46,
   "id": "abcd641e-36cb-4c9b-9d4f-164fed72a55a",
   "metadata": {},
   "outputs": [],
   "source": [
    "locations_coordinate1.to_csv('locations_coordinate1.csv', index=False)"
   ]
  },
  {
   "cell_type": "code",
   "execution_count": 28,
   "id": "2f61bc19-8aad-47ad-8d4f-75069fa6621e",
   "metadata": {},
   "outputs": [
    {
     "name": "stderr",
     "output_type": "stream",
     "text": [
      "Extracting Locations: 100%|██████████████████████████████████████████████████████████| 597/597 [05:37<00:00,  1.77it/s]"
     ]
    },
    {
     "name": "stdout",
     "output_type": "stream",
     "text": [
      "['mexico', 'oott', 'smart city', 'baghdad', 'us', 'turkey', 'washington', 'dubai', 'iran city', 'tehran', 'uae', 'italy', 'al miqdadiyah', 'shirwana', 'morocco', 'najaf', 'kamran', 'kuwait', 'toronto', 'middle east', 'karzin county', 'kabul', 'bhuj', 'russia', 'buhari', 'kurdistan', 'kermanshah province', 'algeria', 'emsr', 'azerbaijan', 'the middle east', 'costa rica', 'halabja', 'israel', 'pakistan', 'china', 'iran', 'iraq', 'haiti', 'persia', 'japan']\n"
     ]
    },
    {
     "name": "stderr",
     "output_type": "stream",
     "text": [
      "\n"
     ]
    }
   ],
   "source": [
    "# locations_series = df['processed_text'].apply(extract_locations)\n",
    "locations_series = []\n",
    "for text in tqdm(df['processed_text'], desc=\"Extracting Locations\", total=len(df)):\n",
    "    locations_series.append(extract_locations(text))\n",
    "# Concatenate all the lists into a single list\n",
    "all_locations = [location for locations_list in locations_series for location in locations_list]\n",
    "\n",
    "# Optional: If you want to remove duplicates from the list\n",
    "all_locations = list(set(all_locations))\n",
    "\n",
    "# Print or use the list of all locations\n",
    "print(all_locations)"
   ]
  },
  {
   "cell_type": "code",
   "execution_count": null,
   "id": "e7fc66e1-cf8f-4558-b5cb-10dd5482e7db",
   "metadata": {},
   "outputs": [],
   "source": [
    "location_df = pd.DataFrame({'Location': all_locations})\n",
    "\n",
    "# Save the DataFrame to a file (e.g., CSV)\n",
    "location_df.to_csv('locations.csv', index=False)  # Change the file format and name as needed"
   ]
  }
 ],
 "metadata": {
  "kernelspec": {
   "display_name": "Python 3 (ipykernel)",
   "language": "python",
   "name": "python3"
  },
  "language_info": {
   "codemirror_mode": {
    "name": "ipython",
    "version": 3
   },
   "file_extension": ".py",
   "mimetype": "text/x-python",
   "name": "python",
   "nbconvert_exporter": "python",
   "pygments_lexer": "ipython3",
   "version": "3.12.2"
  }
 },
 "nbformat": 4,
 "nbformat_minor": 5
}
