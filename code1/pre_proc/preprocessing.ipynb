{
 "cells": [
  {
   "cell_type": "code",
   "execution_count": 11,
   "id": "9f904909-c8a4-4473-8c89-f96080f140a9",
   "metadata": {},
   "outputs": [],
   "source": [
    "import json, nltk"
   ]
  },
  {
   "cell_type": "code",
   "execution_count": 12,
   "id": "f9598230-e1d2-4513-b090-1bc367031a06",
   "metadata": {},
   "outputs": [],
   "source": [
    "import pandas as pd"
   ]
  },
  {
   "cell_type": "code",
   "execution_count": 13,
   "id": "80a2baae-6a59-494c-bb23-e5559ccfa7b7",
   "metadata": {},
   "outputs": [],
   "source": [
    "import numpy as np"
   ]
  },
  {
   "cell_type": "code",
   "execution_count": 14,
   "id": "a8fdb94a-80e2-4ff1-8876-0738a099e132",
   "metadata": {},
   "outputs": [],
   "source": [
    "with open('./contractions.json', 'r') as f:\n",
    "    contractions_dict = json.load(f)\n",
    "contractions = contractions_dict['contractions']"
   ]
  },
  {
   "cell_type": "code",
   "execution_count": 15,
   "id": "32b1dd1b-cebe-434f-b126-1b4e5857fa9c",
   "metadata": {},
   "outputs": [],
   "source": [
    "def emoji(review_data):\n",
    "    # Smile -- :), : ), :-), (:, ( :, (-:, :') , :O\n",
    "    review_data = re.sub(r'(:\\s?\\)|:-\\)|\\(\\s?:|\\(-:|:\\'\\)|:O)', ' smile ', review_data)\n",
    "    # Laugh -- :D, : D, :-D, xD, x-D, XD, X-D\n",
    "    review_data = re.sub(r'(:\\s?D|:-D|x-?D|X-?D)', ' laugh ', review_data)\n",
    "    # Love -- <3, :*\n",
    "    review_data = re.sub(r'(<3|:\\*)', ' love ', review_data)\n",
    "    # Wink -- ;-), ;), ;-D, ;D, (;,  (-; , @-)\n",
    "    review_data = re.sub(r'(;-?\\)|;-?D|\\(-?;|@-\\))', ' wink ', review_data)\n",
    "    # Sad -- :-(, : (, :(, ):, )-:, :-/ , :-|\n",
    "    review_data = re.sub(r'(:\\s?\\(|:-\\(|\\)\\s?:|\\)-:|:-/|:-\\|)', ' sad ', review_data)\n",
    "    # Cry -- :,(, :'(, :\"(\n",
    "    review_data = re.sub(r'(:,\\(|:\\'\\(|:\"\\()', ' cry ', review_data)\n",
    "    return review_data"
   ]
  },
  {
   "cell_type": "code",
   "execution_count": 16,
   "id": "a84e0526-9863-4561-9a28-9d53bef861ba",
   "metadata": {},
   "outputs": [],
   "source": [
    "import re\n",
    "\n",
    "def process_review_data(review_data):\n",
    "    review_data = review_data.lower()                                             # Lowercases the string\n",
    "    review_data = re.sub(r'@[^\\s]+', '', review_data)                             # Removes usernames\n",
    "    review_data = re.sub(r'((www\\.[^\\s]+)|(https?://[^\\s]+))', ' ', review_data)   # Remove URLs\n",
    "    review_data = re.sub(r\"\\d+\", \" \", str(review_data))                           # Removes all digits\n",
    "    review_data = re.sub(r'&quot;', \" \", review_data)                             # Remove (&quot;) \n",
    "    review_data = emoji(review_data)                                              # Replaces Emojis\n",
    "    review_data = re.sub(r\"\\b[a-zA-Z]\\b\", \"\", str(review_data))                   # Removes all single characters\n",
    "    for word in review_data.split():\n",
    "        if word.lower() in contractions:\n",
    "            review_data = review_data.replace(word, contractions[word.lower()])   # Replaces contractions\n",
    "    review_data = re.sub(r\"[^\\w\\s]\", \" \", str(review_data))                       # Removes all punctuations\n",
    "    review_data = re.sub(r'(.)\\1+', r'\\1\\1', review_data)                         # Convert more than 2 letter repetitions to 2\n",
    "    review_data = re.sub(r\"\\s+\", \" \", str(review_data))                           # Replaces double spaces with single space    \n",
    "    return review_data"
   ]
  },
  {
   "cell_type": "code",
   "execution_count": 17,
   "id": "83934c60-4c16-4c24-a094-4fdc482e6cab",
   "metadata": {},
   "outputs": [
    {
     "data": {
      "text/plain": [
       "'still no contact with the government sad '"
      ]
     },
     "execution_count": 17,
     "metadata": {},
     "output_type": "execute_result"
    }
   ],
   "source": [
    "preprocessed= process_review_data(\"still no contact with the government :(\")\n",
    "preprocessed"
   ]
  },
  {
   "cell_type": "code",
   "execution_count": 23,
   "id": "85e8b71c-c2de-4657-836c-d38596d76af6",
   "metadata": {},
   "outputs": [
    {
     "name": "stdin",
     "output_type": "stream",
     "text": [
      " 0f_turkey.csv\n"
     ]
    }
   ],
   "source": [
    "path = input()"
   ]
  },
  {
   "cell_type": "code",
   "execution_count": 27,
   "id": "4e5ac23a-6367-46b3-a32d-3cb063d734e0",
   "metadata": {},
   "outputs": [],
   "source": [
    "df = pd.read_csv(path)\n",
    "\n",
    "review_data = df.columns.values[0]\n",
    "\n",
    "df['processed_text'] = np.vectorize(process_review_data)(df[review_data])\n",
    "\n",
    "file_path = \"preprocessed_\" + path\n",
    "df.to_csv(file_path, index=False)"
   ]
  },
  {
   "cell_type": "code",
   "execution_count": 28,
   "id": "0a666298-8822-4fa8-94df-c7b4bf3618fb",
   "metadata": {},
   "outputs": [
    {
     "data": {
      "text/plain": [
       "'text'"
      ]
     },
     "execution_count": 28,
     "metadata": {},
     "output_type": "execute_result"
    }
   ],
   "source": [
    "review_data"
   ]
  },
  {
   "cell_type": "code",
   "execution_count": 29,
   "id": "1a6bbcf1-01f7-4e96-bbb1-e5eec4fe5df9",
   "metadata": {},
   "outputs": [
    {
     "data": {
      "text/html": [
       "<div>\n",
       "<style scoped>\n",
       "    .dataframe tbody tr th:only-of-type {\n",
       "        vertical-align: middle;\n",
       "    }\n",
       "\n",
       "    .dataframe tbody tr th {\n",
       "        vertical-align: top;\n",
       "    }\n",
       "\n",
       "    .dataframe thead th {\n",
       "        text-align: right;\n",
       "    }\n",
       "</style>\n",
       "<table border=\"1\" class=\"dataframe\">\n",
       "  <thead>\n",
       "    <tr style=\"text-align: right;\">\n",
       "      <th></th>\n",
       "      <th>text</th>\n",
       "      <th>date</th>\n",
       "      <th>processed_text</th>\n",
       "    </tr>\n",
       "  </thead>\n",
       "  <tbody>\n",
       "    <tr>\n",
       "      <th>0</th>\n",
       "      <td>Hey    Turkish users are getting a rate limit ...</td>\n",
       "      <td>2023-02-06 13:04:30+00:00</td>\n",
       "      <td>hey turkish users are getting rate limit excee...</td>\n",
       "    </tr>\n",
       "    <tr>\n",
       "      <th>1</th>\n",
       "      <td>May Allah have mercy on all those who passed a...</td>\n",
       "      <td>2023-02-06 13:04:30+00:00</td>\n",
       "      <td>may allah have mercy on all those who passed a...</td>\n",
       "    </tr>\n",
       "    <tr>\n",
       "      <th>2</th>\n",
       "      <td>We Stand with Turkey</td>\n",
       "      <td>2023-02-06 13:04:31+00:00</td>\n",
       "      <td>we stand with turkey</td>\n",
       "    </tr>\n",
       "    <tr>\n",
       "      <th>3</th>\n",
       "      <td>🔔 ( M3.9 occurred 21 km E of  ( 37 min ago (lo...</td>\n",
       "      <td>2023-02-06 13:04:33+00:00</td>\n",
       "      <td>occurred km of min ago local time smile more ...</td>\n",
       "    </tr>\n",
       "    <tr>\n",
       "      <th>4</th>\n",
       "      <td>🚨 Former Newcastle United star Christian Atsu ...</td>\n",
       "      <td>2023-02-06 13:04:33+00:00</td>\n",
       "      <td>former newcastle united star christian atsu i...</td>\n",
       "    </tr>\n",
       "    <tr>\n",
       "      <th>...</th>\n",
       "      <td>...</td>\n",
       "      <td>...</td>\n",
       "      <td>...</td>\n",
       "    </tr>\n",
       "    <tr>\n",
       "      <th>36772</th>\n",
       "      <td>Massive thanks to you and the entire  team fo...</td>\n",
       "      <td>2023-02-10 23:57:03+00:00</td>\n",
       "      <td>massive thanks to you and the entire team for...</td>\n",
       "    </tr>\n",
       "    <tr>\n",
       "      <th>36773</th>\n",
       "      <td>PLEASE donate to AHBAP charity, the only chari...</td>\n",
       "      <td>2023-02-10 23:58:12+00:00</td>\n",
       "      <td>please donate to ahbap charity the only charit...</td>\n",
       "    </tr>\n",
       "    <tr>\n",
       "      <th>36774</th>\n",
       "      <td>🙏😭😭😭I thought my heart would burst from grief,...</td>\n",
       "      <td>2023-02-10 23:58:20+00:00</td>\n",
       "      <td>thought my heart would burst from grief tears...</td>\n",
       "    </tr>\n",
       "    <tr>\n",
       "      <th>36775</th>\n",
       "      <td>Alhamdulilllah they are safe and sound ❤️     ...</td>\n",
       "      <td>2023-02-10 23:58:21+00:00</td>\n",
       "      <td>alhamdulillah they are safe and sound</td>\n",
       "    </tr>\n",
       "    <tr>\n",
       "      <th>36776</th>\n",
       "      <td>Please donate, like share RAISE AWARENESS THAT...</td>\n",
       "      <td>2023-02-10 23:58:58+00:00</td>\n",
       "      <td>please donate like share raise awareness that ...</td>\n",
       "    </tr>\n",
       "  </tbody>\n",
       "</table>\n",
       "<p>36777 rows × 3 columns</p>\n",
       "</div>"
      ],
      "text/plain": [
       "                                                    text  \\\n",
       "0      Hey    Turkish users are getting a rate limit ...   \n",
       "1      May Allah have mercy on all those who passed a...   \n",
       "2                                  We Stand with Turkey    \n",
       "3      🔔 ( M3.9 occurred 21 km E of  ( 37 min ago (lo...   \n",
       "4      🚨 Former Newcastle United star Christian Atsu ...   \n",
       "...                                                  ...   \n",
       "36772   Massive thanks to you and the entire  team fo...   \n",
       "36773  PLEASE donate to AHBAP charity, the only chari...   \n",
       "36774  🙏😭😭😭I thought my heart would burst from grief,...   \n",
       "36775  Alhamdulilllah they are safe and sound ❤️     ...   \n",
       "36776  Please donate, like share RAISE AWARENESS THAT...   \n",
       "\n",
       "                            date  \\\n",
       "0      2023-02-06 13:04:30+00:00   \n",
       "1      2023-02-06 13:04:30+00:00   \n",
       "2      2023-02-06 13:04:31+00:00   \n",
       "3      2023-02-06 13:04:33+00:00   \n",
       "4      2023-02-06 13:04:33+00:00   \n",
       "...                          ...   \n",
       "36772  2023-02-10 23:57:03+00:00   \n",
       "36773  2023-02-10 23:58:12+00:00   \n",
       "36774  2023-02-10 23:58:20+00:00   \n",
       "36775  2023-02-10 23:58:21+00:00   \n",
       "36776  2023-02-10 23:58:58+00:00   \n",
       "\n",
       "                                          processed_text  \n",
       "0      hey turkish users are getting rate limit excee...  \n",
       "1      may allah have mercy on all those who passed a...  \n",
       "2                                  we stand with turkey   \n",
       "3       occurred km of min ago local time smile more ...  \n",
       "4       former newcastle united star christian atsu i...  \n",
       "...                                                  ...  \n",
       "36772   massive thanks to you and the entire team for...  \n",
       "36773  please donate to ahbap charity the only charit...  \n",
       "36774   thought my heart would burst from grief tears...  \n",
       "36775             alhamdulillah they are safe and sound   \n",
       "36776  please donate like share raise awareness that ...  \n",
       "\n",
       "[36777 rows x 3 columns]"
      ]
     },
     "execution_count": 29,
     "metadata": {},
     "output_type": "execute_result"
    }
   ],
   "source": [
    "df"
   ]
  },
  {
   "cell_type": "code",
   "execution_count": null,
   "id": "8b1fb24c-6cc0-48ae-8e04-b8aff6acc9cc",
   "metadata": {},
   "outputs": [],
   "source": []
  }
 ],
 "metadata": {
  "kernelspec": {
   "display_name": "Python 3 (ipykernel)",
   "language": "python",
   "name": "python3"
  },
  "language_info": {
   "codemirror_mode": {
    "name": "ipython",
    "version": 3
   },
   "file_extension": ".py",
   "mimetype": "text/x-python",
   "name": "python",
   "nbconvert_exporter": "python",
   "pygments_lexer": "ipython3",
   "version": "3.12.2"
  }
 },
 "nbformat": 4,
 "nbformat_minor": 5
}
