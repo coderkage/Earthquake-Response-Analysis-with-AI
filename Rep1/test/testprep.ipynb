{
 "cells": [
  {
   "cell_type": "code",
   "execution_count": 7,
   "metadata": {},
   "outputs": [
    {
     "name": "stderr",
     "output_type": "stream",
     "text": [
      "Processing sentences: 100%|██████████| 1011/1011 [00:00<00:00, 30179.79it/s]"
     ]
    },
    {
     "name": "stdout",
     "output_type": "stream",
     "text": [
      "Tagged data saved to tagged_texts.jsonl\n"
     ]
    },
    {
     "name": "stderr",
     "output_type": "stream",
     "text": [
      "\n"
     ]
    }
   ],
   "source": [
    "import pandas as pd\n",
    "import json\n",
    "import re\n",
    "from tqdm import tqdm\n",
    "\n",
    "# Load the CSV files\n",
    "text_data = pd.read_csv(\"preprocessed.csv\")  # Contains 'text' column\n",
    "ascii_data = pd.read_csv(\"filtered_gazetteer.csv\")  # Contains 'ascii name' column\n",
    "\n",
    "# Extract lists of text and country names\n",
    "texts = text_data['text'].tolist()\n",
    "country_names = ascii_data['asciiname'].dropna().astype(str).tolist()  # Drop NaNs and ensure strings\n",
    "\n",
    "# Convert country names to a set for faster lookups\n",
    "country_set = set(country_names)\n",
    "\n",
    "# Initialize a list to store JSONL format data\n",
    "jsonl_data = []\n",
    "\n",
    "# Process each text for tagging with tqdm progress bar\n",
    "for sentence in tqdm(texts, desc=\"Processing sentences\"):\n",
    "    entities = []\n",
    "    if isinstance(sentence, str):  # Only proceed if sentence is a string\n",
    "        # Tokenize the sentence\n",
    "        tokens = sentence.split()  # Simple whitespace-based tokenization\n",
    "        for token in tokens:\n",
    "            # Remove punctuation from the token for matching\n",
    "            token_cleaned = re.sub(r'[^\\w\\s]', '', token)\n",
    "            start = sentence.find(token)  # Get the start index of the token\n",
    "            end = start + len(token)  # Calculate end index\n",
    "            \n",
    "            # Check if the cleaned token is in the country set\n",
    "            if token_cleaned in country_set:\n",
    "                entities.append([start, end, \"GPE\"])\n",
    "    \n",
    "    # Append the sentence and entities in required JSONL format\n",
    "    jsonl_data.append([sentence, {\"entities\": entities}])\n",
    "\n",
    "# Write the output to a .jsonl file\n",
    "output_path = \"tagged_texts.jsonl\"\n",
    "with open(output_path, 'w', encoding='utf-8') as f:\n",
    "    for entry in jsonl_data:\n",
    "        f.write(json.dumps(entry) + \"\\n\")\n",
    "\n",
    "print(f\"Tagged data saved to {output_path}\")\n"
   ]
  },
  {
   "cell_type": "code",
   "execution_count": 8,
   "metadata": {},
   "outputs": [
    {
     "name": "stdout",
     "output_type": "stream",
     "text": [
      "Filtered data saved to filtered_tagged_texts.jsonl\n"
     ]
    }
   ],
   "source": [
    "import json\n",
    "\n",
    "# Input and output file paths\n",
    "input_path = \"tagged_texts.jsonl\"\n",
    "output_path = \"filtered_tagged_texts.jsonl\"\n",
    "\n",
    "# Open the input file and create an output file\n",
    "with open(input_path, 'r', encoding='utf-8') as infile, open(output_path, 'w', encoding='utf-8') as outfile:\n",
    "    for line in infile:\n",
    "        data = json.loads(line)  # Load each line as JSON\n",
    "        entities = data[1].get(\"entities\", [])  # Extract entities\n",
    "        \n",
    "        # Write only lines with entities\n",
    "        if entities:\n",
    "            outfile.write(json.dumps(data) + \"\\n\")\n",
    "\n",
    "print(f\"Filtered data saved to {output_path}\")\n"
   ]
  },
  {
   "cell_type": "code",
   "execution_count": null,
   "metadata": {},
   "outputs": [],
   "source": []
  }
 ],
 "metadata": {
  "kernelspec": {
   "display_name": "Python 3",
   "language": "python",
   "name": "python3"
  },
  "language_info": {
   "codemirror_mode": {
    "name": "ipython",
    "version": 3
   },
   "file_extension": ".py",
   "mimetype": "text/x-python",
   "name": "python",
   "nbconvert_exporter": "python",
   "pygments_lexer": "ipython3",
   "version": "3.12.2"
  }
 },
 "nbformat": 4,
 "nbformat_minor": 2
}
