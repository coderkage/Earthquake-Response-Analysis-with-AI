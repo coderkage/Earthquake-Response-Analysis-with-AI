{
 "cells": [
  {
   "cell_type": "code",
   "execution_count": 1,
   "metadata": {},
   "outputs": [],
   "source": [
    "import re\n",
    "import string\n",
    "import unicodedata\n",
    "import pandas as pd\n",
    "\n",
    "def preprocess_tweet(text):\n",
    "    text = unicodedata.normalize('NFKD', text).encode('ascii', 'ignore').decode('utf-8')\n",
    "\n",
    "    text = re.sub(r'http\\S+|www\\S+', '', text)\n",
    "\n",
    "    text = re.sub(r'@\\w+', '', text)\n",
    "\n",
    "    text = re.sub(r'#+', '', text)\n",
    "\n",
    "    text = re.sub(r'\\d+', '', text)\n",
    "\n",
    "    text = re.sub(r'[^\\w\\s.,!?-]', '', text)\n",
    "\n",
    "    text = re.sub(r'\\s+', ' ', text).strip()\n",
    "\n",
    "    return text\n",
    "\n",
    "def preprocess_tweets_in_dataframe(df, tweet_column='text'):\n",
    "    df[tweet_column] = df[tweet_column].apply(preprocess_tweet)\n",
    "    return df\n"
   ]
  },
  {
   "cell_type": "code",
   "execution_count": 2,
   "metadata": {},
   "outputs": [],
   "source": [
    "df = pd.read_csv(\"jp2024.csv\")\n",
    "df = df.dropna(subset=['text'])  \n",
    "\n",
    "preprocessed_df = preprocess_tweets_in_dataframe(df)\n",
    "preprocessed_df = preprocess_tweets_in_dataframe(preprocessed_df)\n",
    "preprocessed_df = preprocess_tweets_in_dataframe(preprocessed_df) #applying again to remove redundant data\n",
    "preprocessed_df = preprocessed_df.dropna(subset=['text'])  \n",
    "preprocessed_df.to_csv(\"test/preprocessed.csv\")\n"
   ]
  },
  {
   "cell_type": "code",
   "execution_count": null,
   "metadata": {},
   "outputs": [],
   "source": []
  }
 ],
 "metadata": {
  "kernelspec": {
   "display_name": "Python 3",
   "language": "python",
   "name": "python3"
  },
  "language_info": {
   "codemirror_mode": {
    "name": "ipython",
    "version": 3
   },
   "file_extension": ".py",
   "mimetype": "text/x-python",
   "name": "python",
   "nbconvert_exporter": "python",
   "pygments_lexer": "ipython3",
   "version": "3.12.2"
  }
 },
 "nbformat": 4,
 "nbformat_minor": 2
}
